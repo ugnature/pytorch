{
  "nbformat": 4,
  "nbformat_minor": 0,
  "metadata": {
    "colab": {
      "provenance": [],
      "gpuType": "T4",
      "authorship_tag": "ABX9TyPWNbrLBRvluD9eWaSqbCzA",
      "include_colab_link": true
    },
    "kernelspec": {
      "name": "python3",
      "display_name": "Python 3"
    },
    "language_info": {
      "name": "python"
    }
  },
  "cells": [
    {
      "cell_type": "markdown",
      "metadata": {
        "id": "view-in-github",
        "colab_type": "text"
      },
      "source": [
        "<a href=\"https://colab.research.google.com/github/ugnature/pytorch/blob/main/00_pytorch_fundamentals.ipynb\" target=\"_parent\"><img src=\"https://colab.research.google.com/assets/colab-badge.svg\" alt=\"Open In Colab\"/></a>"
      ]
    },
    {
      "cell_type": "markdown",
      "source": [
        "## 00. Pytorch Fundamentals\n",
        "\n",
        "Resource notebook: https://www.learnpytorch.io/00_pytorch_fundamentals/\n",
        "\n",
        "if you have a question what is going on in this notebook u can come on git hub: https://github.com/mrdbourke/pytorch-deep-learning/discussions"
      ],
      "metadata": {
        "id": "1QTLbErfGqHV"
      }
    },
    {
      "cell_type": "code",
      "execution_count": 1,
      "metadata": {
        "colab": {
          "base_uri": "https://localhost:8080/"
        },
        "id": "08kE-gOTFbhg",
        "outputId": "79fdc025-207f-4269-e2e6-7ee92dcff9ec"
      },
      "outputs": [
        {
          "output_type": "stream",
          "name": "stdout",
          "text": [
            "2.0.1+cu118\n"
          ]
        }
      ],
      "source": [
        "import torch\n",
        "import pandas as pd\n",
        "import numpy as np\n",
        "import matplotlib.pyplot as plt\n",
        "\n",
        "print(torch.__version__)"
      ]
    },
    {
      "cell_type": "markdown",
      "source": [
        "## introductions to Tensors\n",
        "\n",
        "### Creating tensors\n",
        "\n",
        "Pytorch tensors are creating using `torch.tensor()` => https://pytorch.org/docs/stable/tensors.html"
      ],
      "metadata": {
        "id": "_SD_kt-cGNUX"
      }
    },
    {
      "cell_type": "code",
      "source": [
        "# scalar\n",
        "scalar = torch.tensor(7)\n",
        "scalar"
      ],
      "metadata": {
        "colab": {
          "base_uri": "https://localhost:8080/"
        },
        "id": "sPqZh7QGJL91",
        "outputId": "cefcad13-b1a6-43e7-c6d4-bdd84e56e9f2"
      },
      "execution_count": 11,
      "outputs": [
        {
          "output_type": "execute_result",
          "data": {
            "text/plain": [
              "tensor(7)"
            ]
          },
          "metadata": {},
          "execution_count": 11
        }
      ]
    },
    {
      "cell_type": "code",
      "source": [
        "scalar.ndim"
      ],
      "metadata": {
        "colab": {
          "base_uri": "https://localhost:8080/"
        },
        "id": "k4dzrvTjLmOF",
        "outputId": "e515967e-d0f2-4b8a-9b1c-8bf06dae6b6d"
      },
      "execution_count": 12,
      "outputs": [
        {
          "output_type": "execute_result",
          "data": {
            "text/plain": [
              "0"
            ]
          },
          "metadata": {},
          "execution_count": 12
        }
      ]
    },
    {
      "cell_type": "code",
      "source": [
        "# Get tensor back as python integer\n",
        "scalar.item()"
      ],
      "metadata": {
        "colab": {
          "base_uri": "https://localhost:8080/"
        },
        "id": "LTI3pTXxLrEO",
        "outputId": "8dba2470-d219-435a-adc6-17d57e8941d0"
      },
      "execution_count": 14,
      "outputs": [
        {
          "output_type": "execute_result",
          "data": {
            "text/plain": [
              "7"
            ]
          },
          "metadata": {},
          "execution_count": 14
        }
      ]
    },
    {
      "cell_type": "code",
      "source": [
        "# Vector\n",
        "vector = torch.tensor([7, 7])\n",
        "vector"
      ],
      "metadata": {
        "colab": {
          "base_uri": "https://localhost:8080/"
        },
        "id": "1onmu05mMYae",
        "outputId": "ead62a4a-b5b4-497c-e30a-88febd9f87f2"
      },
      "execution_count": 15,
      "outputs": [
        {
          "output_type": "execute_result",
          "data": {
            "text/plain": [
              "tensor([7, 7])"
            ]
          },
          "metadata": {},
          "execution_count": 15
        }
      ]
    },
    {
      "cell_type": "code",
      "source": [
        "vector.ndim"
      ],
      "metadata": {
        "colab": {
          "base_uri": "https://localhost:8080/"
        },
        "id": "7aWPXnN1MtsO",
        "outputId": "c4b17338-86aa-4ae3-91c3-7dac905e48e3"
      },
      "execution_count": 16,
      "outputs": [
        {
          "output_type": "execute_result",
          "data": {
            "text/plain": [
              "1"
            ]
          },
          "metadata": {},
          "execution_count": 16
        }
      ]
    },
    {
      "cell_type": "code",
      "source": [
        "vector.shape"
      ],
      "metadata": {
        "colab": {
          "base_uri": "https://localhost:8080/"
        },
        "id": "ca3oEIOsNEgT",
        "outputId": "9cb913dc-8f69-4561-e77e-7de46c0cd96e"
      },
      "execution_count": 17,
      "outputs": [
        {
          "output_type": "execute_result",
          "data": {
            "text/plain": [
              "torch.Size([2])"
            ]
          },
          "metadata": {},
          "execution_count": 17
        }
      ]
    },
    {
      "cell_type": "code",
      "source": [
        "# MATRIX\n",
        "MATRIX = torch.tensor([[7,8],[4,5]])\n",
        "MATRIX"
      ],
      "metadata": {
        "colab": {
          "base_uri": "https://localhost:8080/"
        },
        "id": "qe1bSnHjNGkD",
        "outputId": "d9225f3b-4de7-4da1-dfd9-f524ec02fe7d"
      },
      "execution_count": 18,
      "outputs": [
        {
          "output_type": "execute_result",
          "data": {
            "text/plain": [
              "tensor([[7, 8],\n",
              "        [4, 5]])"
            ]
          },
          "metadata": {},
          "execution_count": 18
        }
      ]
    },
    {
      "cell_type": "code",
      "source": [
        "MATRIX.ndim"
      ],
      "metadata": {
        "colab": {
          "base_uri": "https://localhost:8080/"
        },
        "id": "Vwp6qErsNeST",
        "outputId": "a9c17bf8-eee6-43e8-e46b-58a56bfea1e5"
      },
      "execution_count": 19,
      "outputs": [
        {
          "output_type": "execute_result",
          "data": {
            "text/plain": [
              "2"
            ]
          },
          "metadata": {},
          "execution_count": 19
        }
      ]
    },
    {
      "cell_type": "code",
      "source": [
        "MATRIX.shape"
      ],
      "metadata": {
        "colab": {
          "base_uri": "https://localhost:8080/"
        },
        "id": "f7mQtMCLNmxg",
        "outputId": "3974cba0-ae49-4783-ceb9-b05d314b78ee"
      },
      "execution_count": 22,
      "outputs": [
        {
          "output_type": "execute_result",
          "data": {
            "text/plain": [
              "torch.Size([2, 2])"
            ]
          },
          "metadata": {},
          "execution_count": 22
        }
      ]
    },
    {
      "cell_type": "code",
      "source": [
        "MATRIX[0]"
      ],
      "metadata": {
        "colab": {
          "base_uri": "https://localhost:8080/"
        },
        "id": "oknaV8qvNqAn",
        "outputId": "0888b3fc-0dd5-4057-ae6e-6ee96f8aa09f"
      },
      "execution_count": 23,
      "outputs": [
        {
          "output_type": "execute_result",
          "data": {
            "text/plain": [
              "tensor([7, 8])"
            ]
          },
          "metadata": {},
          "execution_count": 23
        }
      ]
    },
    {
      "cell_type": "code",
      "source": [
        "# TENSOR\n",
        "TENSOR = torch.tensor([[[[1,2,4],\n",
        "                        [3,45,6],\n",
        "                        [4,6,7]],[[1,2,4],\n",
        "                                  [3,45,6],\n",
        "                                  [4,6,7]],[[1,2,4],\n",
        "                                            [3,45,6],\n",
        "                                            [4,6,7]],[[1,2,4],\n",
        "                                                      [3,45,6],\n",
        "                                                      [4,6,7]]],[[[1,2,4],\n",
        "                                                                  [3,45,6],\n",
        "                                                                   [4,6,7]],[[1,2,4],\n",
        "                                                                             [3,45,6],\n",
        "                                                                             [4,6,7]],[[1,2,4],\n",
        "                                                                                       [3,45,6],\n",
        "                                                                                      [4,6,7]],[[1,2,4],\n",
        "                                                                                                 [3,45,6],\n",
        "                                                                                                [4,6,7]]]])\n",
        "TENSOR"
      ],
      "metadata": {
        "colab": {
          "base_uri": "https://localhost:8080/"
        },
        "id": "VObkDTpnN11D",
        "outputId": "df4a7eea-1c79-49d8-ba0d-b3615a1dfb8f"
      },
      "execution_count": 46,
      "outputs": [
        {
          "output_type": "execute_result",
          "data": {
            "text/plain": [
              "tensor([[[[ 1,  2,  4],\n",
              "          [ 3, 45,  6],\n",
              "          [ 4,  6,  7]],\n",
              "\n",
              "         [[ 1,  2,  4],\n",
              "          [ 3, 45,  6],\n",
              "          [ 4,  6,  7]],\n",
              "\n",
              "         [[ 1,  2,  4],\n",
              "          [ 3, 45,  6],\n",
              "          [ 4,  6,  7]],\n",
              "\n",
              "         [[ 1,  2,  4],\n",
              "          [ 3, 45,  6],\n",
              "          [ 4,  6,  7]]],\n",
              "\n",
              "\n",
              "        [[[ 1,  2,  4],\n",
              "          [ 3, 45,  6],\n",
              "          [ 4,  6,  7]],\n",
              "\n",
              "         [[ 1,  2,  4],\n",
              "          [ 3, 45,  6],\n",
              "          [ 4,  6,  7]],\n",
              "\n",
              "         [[ 1,  2,  4],\n",
              "          [ 3, 45,  6],\n",
              "          [ 4,  6,  7]],\n",
              "\n",
              "         [[ 1,  2,  4],\n",
              "          [ 3, 45,  6],\n",
              "          [ 4,  6,  7]]]])"
            ]
          },
          "metadata": {},
          "execution_count": 46
        }
      ]
    },
    {
      "cell_type": "code",
      "source": [
        "TENSOR.ndim"
      ],
      "metadata": {
        "colab": {
          "base_uri": "https://localhost:8080/"
        },
        "id": "mfoez4jSOohO",
        "outputId": "67b6008e-fcba-488d-ddca-86c54db9dc07"
      },
      "execution_count": 47,
      "outputs": [
        {
          "output_type": "execute_result",
          "data": {
            "text/plain": [
              "4"
            ]
          },
          "metadata": {},
          "execution_count": 47
        }
      ]
    },
    {
      "cell_type": "code",
      "source": [
        "TENSOR.shape"
      ],
      "metadata": {
        "colab": {
          "base_uri": "https://localhost:8080/"
        },
        "id": "zafW1K0FOsXl",
        "outputId": "f1be13e6-fe2f-41de-ae95-1a85d40c3787"
      },
      "execution_count": 48,
      "outputs": [
        {
          "output_type": "execute_result",
          "data": {
            "text/plain": [
              "torch.Size([2, 4, 3, 3])"
            ]
          },
          "metadata": {},
          "execution_count": 48
        }
      ]
    },
    {
      "cell_type": "code",
      "source": [
        "TENSOR[1]"
      ],
      "metadata": {
        "colab": {
          "base_uri": "https://localhost:8080/"
        },
        "id": "_k3vJpoOT9N_",
        "outputId": "d395b815-b2ac-4ee5-a0d9-8f52f13ac107"
      },
      "execution_count": 50,
      "outputs": [
        {
          "output_type": "execute_result",
          "data": {
            "text/plain": [
              "tensor([[[ 1,  2,  4],\n",
              "         [ 3, 45,  6],\n",
              "         [ 4,  6,  7]],\n",
              "\n",
              "        [[ 1,  2,  4],\n",
              "         [ 3, 45,  6],\n",
              "         [ 4,  6,  7]],\n",
              "\n",
              "        [[ 1,  2,  4],\n",
              "         [ 3, 45,  6],\n",
              "         [ 4,  6,  7]],\n",
              "\n",
              "        [[ 1,  2,  4],\n",
              "         [ 3, 45,  6],\n",
              "         [ 4,  6,  7]]])"
            ]
          },
          "metadata": {},
          "execution_count": 50
        }
      ]
    },
    {
      "cell_type": "markdown",
      "source": [
        "### Rendom Tensors\n",
        "\n",
        "why random tensors?\n",
        "\n",
        "Random tensors are important because the way many neural networks learn is that they start with the tensor full of random numbers and then adjust those random numbers to better represent the data.\n",
        "\n",
        "`start with random numbers -> look at data -> update random numbers -> look at data -> update random numbers`"
      ],
      "metadata": {
        "id": "eruOweKaXNCB"
      }
    },
    {
      "cell_type": "code",
      "source": [
        "### Random Tensors\n"
      ],
      "metadata": {
        "id": "-kh2_Po4XTzK"
      },
      "execution_count": null,
      "outputs": []
    }
  ]
}