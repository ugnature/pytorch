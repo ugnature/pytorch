{
  "nbformat": 4,
  "nbformat_minor": 0,
  "metadata": {
    "colab": {
      "provenance": [],
      "gpuType": "T4",
      "authorship_tag": "ABX9TyO7CelWGp1ghSQrgHSHBV8K",
      "include_colab_link": true
    },
    "kernelspec": {
      "name": "python3",
      "display_name": "Python 3"
    },
    "language_info": {
      "name": "python"
    }
  },
  "cells": [
    {
      "cell_type": "markdown",
      "metadata": {
        "id": "view-in-github",
        "colab_type": "text"
      },
      "source": [
        "<a href=\"https://colab.research.google.com/github/ugnature/pytorch/blob/main/00_pytorch_fundamentals.ipynb\" target=\"_parent\"><img src=\"https://colab.research.google.com/assets/colab-badge.svg\" alt=\"Open In Colab\"/></a>"
      ]
    },
    {
      "cell_type": "markdown",
      "source": [
        "## 00. Pytorch Fundamentals\n",
        "\n",
        "Resource notebook: https://www.learnpytorch.io/00_pytorch_fundamentals/\n",
        "\n",
        "if you have a question what is going on in this notebook u can come on git hub: https://github.com/mrdbourke/pytorch-deep-learning/discussions"
      ],
      "metadata": {
        "id": "1QTLbErfGqHV"
      }
    },
    {
      "cell_type": "code",
      "execution_count": 1,
      "metadata": {
        "colab": {
          "base_uri": "https://localhost:8080/"
        },
        "id": "08kE-gOTFbhg",
        "outputId": "11a23ce8-8be1-40ac-dbaa-748bf97b1f5e"
      },
      "outputs": [
        {
          "output_type": "stream",
          "name": "stdout",
          "text": [
            "2.0.1+cu118\n"
          ]
        }
      ],
      "source": [
        "import torch\n",
        "import pandas as pd\n",
        "import numpy as np\n",
        "import matplotlib.pyplot as plt\n",
        "\n",
        "print(torch.__version__)"
      ]
    },
    {
      "cell_type": "markdown",
      "source": [
        "## introductions to Tensors\n",
        "\n",
        "### Creating tensors\n",
        "\n",
        "Pytorch tensors are creating using `torch.tensor()` => https://pytorch.org/docs/stable/tensors.html"
      ],
      "metadata": {
        "id": "_SD_kt-cGNUX"
      }
    },
    {
      "cell_type": "code",
      "source": [
        "# scalar\n",
        "scalar = torch.tensor(7)\n",
        "scalar"
      ],
      "metadata": {
        "colab": {
          "base_uri": "https://localhost:8080/"
        },
        "id": "sPqZh7QGJL91",
        "outputId": "d9737064-1595-454a-d4f7-9b58e4195de7"
      },
      "execution_count": 2,
      "outputs": [
        {
          "output_type": "execute_result",
          "data": {
            "text/plain": [
              "tensor(7)"
            ]
          },
          "metadata": {},
          "execution_count": 2
        }
      ]
    },
    {
      "cell_type": "code",
      "source": [
        "scalar.ndim"
      ],
      "metadata": {
        "colab": {
          "base_uri": "https://localhost:8080/"
        },
        "id": "k4dzrvTjLmOF",
        "outputId": "9f53d4c7-6db2-4e00-bad0-5d602f213c0b"
      },
      "execution_count": 3,
      "outputs": [
        {
          "output_type": "execute_result",
          "data": {
            "text/plain": [
              "0"
            ]
          },
          "metadata": {},
          "execution_count": 3
        }
      ]
    },
    {
      "cell_type": "code",
      "source": [
        "# Get tensor back as python integer\n",
        "scalar.item()"
      ],
      "metadata": {
        "colab": {
          "base_uri": "https://localhost:8080/"
        },
        "id": "LTI3pTXxLrEO",
        "outputId": "b0abccab-9314-4533-c795-40e1624c68fa"
      },
      "execution_count": 4,
      "outputs": [
        {
          "output_type": "execute_result",
          "data": {
            "text/plain": [
              "7"
            ]
          },
          "metadata": {},
          "execution_count": 4
        }
      ]
    },
    {
      "cell_type": "code",
      "source": [
        "# Vector\n",
        "vector = torch.tensor([7, 7])\n",
        "vector"
      ],
      "metadata": {
        "colab": {
          "base_uri": "https://localhost:8080/"
        },
        "id": "1onmu05mMYae",
        "outputId": "62db78c5-4583-4f45-c63c-41d6d49888f3"
      },
      "execution_count": 5,
      "outputs": [
        {
          "output_type": "execute_result",
          "data": {
            "text/plain": [
              "tensor([7, 7])"
            ]
          },
          "metadata": {},
          "execution_count": 5
        }
      ]
    },
    {
      "cell_type": "code",
      "source": [
        "vector.ndim"
      ],
      "metadata": {
        "colab": {
          "base_uri": "https://localhost:8080/"
        },
        "id": "7aWPXnN1MtsO",
        "outputId": "ff7a69e8-2976-4c14-e387-0b83828db625"
      },
      "execution_count": 6,
      "outputs": [
        {
          "output_type": "execute_result",
          "data": {
            "text/plain": [
              "1"
            ]
          },
          "metadata": {},
          "execution_count": 6
        }
      ]
    },
    {
      "cell_type": "code",
      "source": [
        "vector.shape"
      ],
      "metadata": {
        "colab": {
          "base_uri": "https://localhost:8080/"
        },
        "id": "ca3oEIOsNEgT",
        "outputId": "e62cac4a-dcad-4662-d883-8e1ff533840b"
      },
      "execution_count": 7,
      "outputs": [
        {
          "output_type": "execute_result",
          "data": {
            "text/plain": [
              "torch.Size([2])"
            ]
          },
          "metadata": {},
          "execution_count": 7
        }
      ]
    },
    {
      "cell_type": "code",
      "source": [
        "# MATRIX\n",
        "MATRIX = torch.tensor([[7,8],[4,5]])\n",
        "MATRIX"
      ],
      "metadata": {
        "colab": {
          "base_uri": "https://localhost:8080/"
        },
        "id": "qe1bSnHjNGkD",
        "outputId": "c90f3d8c-2748-4665-ad0d-132179da8a6a"
      },
      "execution_count": 8,
      "outputs": [
        {
          "output_type": "execute_result",
          "data": {
            "text/plain": [
              "tensor([[7, 8],\n",
              "        [4, 5]])"
            ]
          },
          "metadata": {},
          "execution_count": 8
        }
      ]
    },
    {
      "cell_type": "code",
      "source": [
        "MATRIX.ndim"
      ],
      "metadata": {
        "colab": {
          "base_uri": "https://localhost:8080/"
        },
        "id": "Vwp6qErsNeST",
        "outputId": "e4eb5ea8-2ac9-4b3d-9131-2f1c5c8958aa"
      },
      "execution_count": 9,
      "outputs": [
        {
          "output_type": "execute_result",
          "data": {
            "text/plain": [
              "2"
            ]
          },
          "metadata": {},
          "execution_count": 9
        }
      ]
    },
    {
      "cell_type": "code",
      "source": [
        "MATRIX.shape"
      ],
      "metadata": {
        "colab": {
          "base_uri": "https://localhost:8080/"
        },
        "id": "f7mQtMCLNmxg",
        "outputId": "c2eef975-2b77-4aa3-f28c-ced7af7250e5"
      },
      "execution_count": 10,
      "outputs": [
        {
          "output_type": "execute_result",
          "data": {
            "text/plain": [
              "torch.Size([2, 2])"
            ]
          },
          "metadata": {},
          "execution_count": 10
        }
      ]
    },
    {
      "cell_type": "code",
      "source": [
        "MATRIX[0]"
      ],
      "metadata": {
        "colab": {
          "base_uri": "https://localhost:8080/"
        },
        "id": "oknaV8qvNqAn",
        "outputId": "119f6683-ddea-4dd8-e02a-1aff4fe8baa1"
      },
      "execution_count": 11,
      "outputs": [
        {
          "output_type": "execute_result",
          "data": {
            "text/plain": [
              "tensor([7, 8])"
            ]
          },
          "metadata": {},
          "execution_count": 11
        }
      ]
    },
    {
      "cell_type": "code",
      "source": [
        "# TENSOR\n",
        "TENSOR = torch.tensor([[[[1,2,4],\n",
        "                        [3,45,6],\n",
        "                        [4,6,7]],[[1,2,4],\n",
        "                                  [3,45,6],\n",
        "                                  [4,6,7]],[[1,2,4],\n",
        "                                            [3,45,6],\n",
        "                                            [4,6,7]],[[1,2,4],\n",
        "                                                      [3,45,6],\n",
        "                                                      [4,6,7]]],[[[1,2,4],\n",
        "                                                                  [3,45,6],\n",
        "                                                                   [4,6,7]],[[1,2,4],\n",
        "                                                                             [3,45,6],\n",
        "                                                                             [4,6,7]],[[1,2,4],\n",
        "                                                                                       [3,45,6],\n",
        "                                                                                      [4,6,7]],[[1,2,4],\n",
        "                                                                                                 [3,45,6],\n",
        "                                                                                                [4,6,7]]]])\n",
        "TENSOR"
      ],
      "metadata": {
        "colab": {
          "base_uri": "https://localhost:8080/"
        },
        "id": "VObkDTpnN11D",
        "outputId": "6c97d595-c4e1-4ee9-ee7e-e4755761ffea"
      },
      "execution_count": 12,
      "outputs": [
        {
          "output_type": "execute_result",
          "data": {
            "text/plain": [
              "tensor([[[[ 1,  2,  4],\n",
              "          [ 3, 45,  6],\n",
              "          [ 4,  6,  7]],\n",
              "\n",
              "         [[ 1,  2,  4],\n",
              "          [ 3, 45,  6],\n",
              "          [ 4,  6,  7]],\n",
              "\n",
              "         [[ 1,  2,  4],\n",
              "          [ 3, 45,  6],\n",
              "          [ 4,  6,  7]],\n",
              "\n",
              "         [[ 1,  2,  4],\n",
              "          [ 3, 45,  6],\n",
              "          [ 4,  6,  7]]],\n",
              "\n",
              "\n",
              "        [[[ 1,  2,  4],\n",
              "          [ 3, 45,  6],\n",
              "          [ 4,  6,  7]],\n",
              "\n",
              "         [[ 1,  2,  4],\n",
              "          [ 3, 45,  6],\n",
              "          [ 4,  6,  7]],\n",
              "\n",
              "         [[ 1,  2,  4],\n",
              "          [ 3, 45,  6],\n",
              "          [ 4,  6,  7]],\n",
              "\n",
              "         [[ 1,  2,  4],\n",
              "          [ 3, 45,  6],\n",
              "          [ 4,  6,  7]]]])"
            ]
          },
          "metadata": {},
          "execution_count": 12
        }
      ]
    },
    {
      "cell_type": "code",
      "source": [
        "TENSOR.ndim"
      ],
      "metadata": {
        "colab": {
          "base_uri": "https://localhost:8080/"
        },
        "id": "mfoez4jSOohO",
        "outputId": "702baaab-5fe2-49f0-afd0-eb91460361a0"
      },
      "execution_count": 13,
      "outputs": [
        {
          "output_type": "execute_result",
          "data": {
            "text/plain": [
              "4"
            ]
          },
          "metadata": {},
          "execution_count": 13
        }
      ]
    },
    {
      "cell_type": "code",
      "source": [
        "TENSOR.shape"
      ],
      "metadata": {
        "colab": {
          "base_uri": "https://localhost:8080/"
        },
        "id": "zafW1K0FOsXl",
        "outputId": "86fe873e-1f0b-4f90-bfb2-cdfcfaec1831"
      },
      "execution_count": 14,
      "outputs": [
        {
          "output_type": "execute_result",
          "data": {
            "text/plain": [
              "torch.Size([2, 4, 3, 3])"
            ]
          },
          "metadata": {},
          "execution_count": 14
        }
      ]
    },
    {
      "cell_type": "code",
      "source": [
        "TENSOR[1]"
      ],
      "metadata": {
        "colab": {
          "base_uri": "https://localhost:8080/"
        },
        "id": "_k3vJpoOT9N_",
        "outputId": "4d229a5c-eb44-4aec-a464-00de1404d729"
      },
      "execution_count": 15,
      "outputs": [
        {
          "output_type": "execute_result",
          "data": {
            "text/plain": [
              "tensor([[[ 1,  2,  4],\n",
              "         [ 3, 45,  6],\n",
              "         [ 4,  6,  7]],\n",
              "\n",
              "        [[ 1,  2,  4],\n",
              "         [ 3, 45,  6],\n",
              "         [ 4,  6,  7]],\n",
              "\n",
              "        [[ 1,  2,  4],\n",
              "         [ 3, 45,  6],\n",
              "         [ 4,  6,  7]],\n",
              "\n",
              "        [[ 1,  2,  4],\n",
              "         [ 3, 45,  6],\n",
              "         [ 4,  6,  7]]])"
            ]
          },
          "metadata": {},
          "execution_count": 15
        }
      ]
    },
    {
      "cell_type": "markdown",
      "source": [
        "### Rendom Tensors\n",
        "\n",
        "why random tensors?\n",
        "\n",
        "Random tensors are important because the way many neural networks learn is that they start with the tensor full of random numbers and then adjust those random numbers to better represent the data.\n",
        "\n",
        "`start with random numbers -> look at data -> update random numbers -> look at data -> update random numbers`\n",
        "\n",
        "Torch random tensors -> https://pytorch.org/docs/stable/generated/torch.rand.html?highlight=rand#torch.rand"
      ],
      "metadata": {
        "id": "eruOweKaXNCB"
      }
    },
    {
      "cell_type": "code",
      "source": [
        "# Create a random tensos of size (3, 4)\n",
        "\n",
        "random_tensor = torch.rand(3, 4)\n",
        "random_tensor"
      ],
      "metadata": {
        "colab": {
          "base_uri": "https://localhost:8080/"
        },
        "id": "-kh2_Po4XTzK",
        "outputId": "6e3bdfa9-46b5-414c-fb38-8ca1311b5fc7"
      },
      "execution_count": 16,
      "outputs": [
        {
          "output_type": "execute_result",
          "data": {
            "text/plain": [
              "tensor([[0.3962, 0.6099, 0.0612, 0.2854],\n",
              "        [0.7884, 0.4444, 0.7250, 0.1928],\n",
              "        [0.7690, 0.9214, 0.3921, 0.0413]])"
            ]
          },
          "metadata": {},
          "execution_count": 16
        }
      ]
    },
    {
      "cell_type": "code",
      "source": [
        "# number of dimension\n",
        "random_tensor.ndim"
      ],
      "metadata": {
        "colab": {
          "base_uri": "https://localhost:8080/"
        },
        "id": "Rj19Sl6haOPZ",
        "outputId": "e552b61e-79a2-46e3-95cb-8ad3bf6106cc"
      },
      "execution_count": 17,
      "outputs": [
        {
          "output_type": "execute_result",
          "data": {
            "text/plain": [
              "2"
            ]
          },
          "metadata": {},
          "execution_count": 17
        }
      ]
    },
    {
      "cell_type": "code",
      "source": [
        "# Create a random tensor with similar shape to an image tensor\n",
        "\n",
        "random_image_size_tensor = torch.rand(size=(224, 224, 3)) # size=(height, width, color_channels(R, G, B))\n",
        "random_image_size_tensor, \n",
        "random_image_size_tensor.shape, random_image_size_tensor.ndim"
      ],
      "metadata": {
        "colab": {
          "base_uri": "https://localhost:8080/"
        },
        "id": "7NO0xy5haOLg",
        "outputId": "876dceb7-6593-48c0-92ce-8675e83e71cb"
      },
      "execution_count": 18,
      "outputs": [
        {
          "output_type": "execute_result",
          "data": {
            "text/plain": [
              "(torch.Size([224, 224, 3]), 3)"
            ]
          },
          "metadata": {},
          "execution_count": 18
        }
      ]
    },
    {
      "cell_type": "markdown",
      "source": [
        "### Zeros and Ones"
      ],
      "metadata": {
        "id": "yFmXhCwhaOIw"
      }
    },
    {
      "cell_type": "code",
      "source": [
        "# Creata a tensor of all zeros\n",
        "\n",
        "zeros = torch.zeros(size= (3,4))\n",
        "zeros"
      ],
      "metadata": {
        "colab": {
          "base_uri": "https://localhost:8080/"
        },
        "id": "BJpXhInUaOGf",
        "outputId": "5446e91f-4e51-43af-a457-dcac3c31ed99"
      },
      "execution_count": 19,
      "outputs": [
        {
          "output_type": "execute_result",
          "data": {
            "text/plain": [
              "tensor([[0., 0., 0., 0.],\n",
              "        [0., 0., 0., 0.],\n",
              "        [0., 0., 0., 0.]])"
            ]
          },
          "metadata": {},
          "execution_count": 19
        }
      ]
    },
    {
      "cell_type": "code",
      "source": [
        "# Create a tensor of Ones\n",
        "\n",
        "ones = torch.ones(size=(3,4))\n",
        "ones"
      ],
      "metadata": {
        "colab": {
          "base_uri": "https://localhost:8080/"
        },
        "id": "S1oY7OH8aOEZ",
        "outputId": "ecc1944c-07af-4215-b568-637987a58c73"
      },
      "execution_count": 20,
      "outputs": [
        {
          "output_type": "execute_result",
          "data": {
            "text/plain": [
              "tensor([[1., 1., 1., 1.],\n",
              "        [1., 1., 1., 1.],\n",
              "        [1., 1., 1., 1.]])"
            ]
          },
          "metadata": {},
          "execution_count": 20
        }
      ]
    },
    {
      "cell_type": "code",
      "source": [
        "ones.dtype"
      ],
      "metadata": {
        "colab": {
          "base_uri": "https://localhost:8080/"
        },
        "id": "rZyQD8_faOCb",
        "outputId": "b480e546-7718-49e1-9d2f-0d6a06a03099"
      },
      "execution_count": 21,
      "outputs": [
        {
          "output_type": "execute_result",
          "data": {
            "text/plain": [
              "torch.float32"
            ]
          },
          "metadata": {},
          "execution_count": 21
        }
      ]
    },
    {
      "cell_type": "markdown",
      "source": [
        "### Creating a arange of tensors and tensors-like"
      ],
      "metadata": {
        "id": "SR7fuFYF4FVZ"
      }
    },
    {
      "cell_type": "code",
      "source": [
        "# Use torch.arange()\n",
        "five_to_forty = torch.arange(5,40)\n",
        "five_to_forty"
      ],
      "metadata": {
        "colab": {
          "base_uri": "https://localhost:8080/"
        },
        "id": "5RVJmiND4FRk",
        "outputId": "102616bc-a820-4045-b56c-c4cbd025bacf"
      },
      "execution_count": 22,
      "outputs": [
        {
          "output_type": "execute_result",
          "data": {
            "text/plain": [
              "tensor([ 5,  6,  7,  8,  9, 10, 11, 12, 13, 14, 15, 16, 17, 18, 19, 20, 21, 22,\n",
              "        23, 24, 25, 26, 27, 28, 29, 30, 31, 32, 33, 34, 35, 36, 37, 38, 39])"
            ]
          },
          "metadata": {},
          "execution_count": 22
        }
      ]
    },
    {
      "cell_type": "code",
      "source": [
        "# Use torch.arange()\n",
        "one_to_ten = torch.arange(start=1, end=11, step=1)\n",
        "one_to_ten"
      ],
      "metadata": {
        "colab": {
          "base_uri": "https://localhost:8080/"
        },
        "id": "GVMl1u3f4FO2",
        "outputId": "dc6e2087-fd1d-48b8-8a5d-f5c0ffb8b33f"
      },
      "execution_count": 23,
      "outputs": [
        {
          "output_type": "execute_result",
          "data": {
            "text/plain": [
              "tensor([ 1,  2,  3,  4,  5,  6,  7,  8,  9, 10])"
            ]
          },
          "metadata": {},
          "execution_count": 23
        }
      ]
    },
    {
      "cell_type": "code",
      "source": [
        "# Creating tensors like\n",
        "ten_zeros = torch.zeros_like(input=one_to_ten)\n",
        "ten_zeros"
      ],
      "metadata": {
        "colab": {
          "base_uri": "https://localhost:8080/"
        },
        "id": "Jevx4Ab64FMt",
        "outputId": "8d5a8607-d69b-4b07-f49a-f21bb15f2c81"
      },
      "execution_count": 24,
      "outputs": [
        {
          "output_type": "execute_result",
          "data": {
            "text/plain": [
              "tensor([0, 0, 0, 0, 0, 0, 0, 0, 0, 0])"
            ]
          },
          "metadata": {},
          "execution_count": 24
        }
      ]
    },
    {
      "cell_type": "markdown",
      "source": [
        "### Tensor datatypes\n",
        "\n",
        "**Note:** Tensor datatype is one of the big 3 big errors, you'll run into with PyTorch & deep learning:\n",
        "1. Tensors not right datatype\n",
        "2. Tensors not right shape\n",
        "3. Tensors not on right device\n",
        "\n",
        "Precision in computing -> https://en.wikipedia.org/wiki/Precision_(computer_science)"
      ],
      "metadata": {
        "id": "eA6lCwfe4FKt"
      }
    },
    {
      "cell_type": "code",
      "source": [
        "# Float 32 tensor\n",
        "float_32_tensor = torch.tensor([3.0, 6.0, 9.0], dtype=None, # what datatype is the tensor (e.g. float32 or float16 , int32 etc.)\n",
        "                                                device=None, # what device is your tensor on\n",
        "                                                requires_grad=False) # whether or not to track gradients with this tensors operations\n",
        "float_32_tensor"
      ],
      "metadata": {
        "colab": {
          "base_uri": "https://localhost:8080/"
        },
        "id": "W148BchX4FIv",
        "outputId": "b9437d2f-4075-4c2e-9efd-d456b9b745cf"
      },
      "execution_count": 32,
      "outputs": [
        {
          "output_type": "execute_result",
          "data": {
            "text/plain": [
              "tensor([3., 6., 9.])"
            ]
          },
          "metadata": {},
          "execution_count": 32
        }
      ]
    },
    {
      "cell_type": "code",
      "source": [
        "float_32_tensor.dtype"
      ],
      "metadata": {
        "colab": {
          "base_uri": "https://localhost:8080/"
        },
        "id": "l5ktG2zu4FGB",
        "outputId": "15e28c5c-ed36-4b7c-96be-1a04255963d1"
      },
      "execution_count": 29,
      "outputs": [
        {
          "output_type": "execute_result",
          "data": {
            "text/plain": [
              "torch.float16"
            ]
          },
          "metadata": {},
          "execution_count": 29
        }
      ]
    },
    {
      "cell_type": "code",
      "source": [
        "float_16_tensor = float_32_tensor.type(torch.float16)\n",
        "float_16_tensor"
      ],
      "metadata": {
        "colab": {
          "base_uri": "https://localhost:8080/"
        },
        "id": "HwecuL8CAeMc",
        "outputId": "c524ae79-edbb-4bfa-d137-ad55a1d08e71"
      },
      "execution_count": 34,
      "outputs": [
        {
          "output_type": "execute_result",
          "data": {
            "text/plain": [
              "tensor([3., 6., 9.], dtype=torch.float16)"
            ]
          },
          "metadata": {},
          "execution_count": 34
        }
      ]
    },
    {
      "cell_type": "code",
      "source": [],
      "metadata": {
        "id": "bnos2x9eAeJQ"
      },
      "execution_count": null,
      "outputs": []
    },
    {
      "cell_type": "code",
      "source": [],
      "metadata": {
        "id": "xOKPZFP8AeHW"
      },
      "execution_count": null,
      "outputs": []
    },
    {
      "cell_type": "code",
      "source": [],
      "metadata": {
        "id": "C4NUN85kAeFS"
      },
      "execution_count": null,
      "outputs": []
    },
    {
      "cell_type": "code",
      "source": [],
      "metadata": {
        "id": "7-QMt5i9AeDK"
      },
      "execution_count": null,
      "outputs": []
    },
    {
      "cell_type": "code",
      "source": [],
      "metadata": {
        "id": "ZwQrJb2SAeAJ"
      },
      "execution_count": null,
      "outputs": []
    }
  ]
}