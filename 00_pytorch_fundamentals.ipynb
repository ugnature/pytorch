{
  "nbformat": 4,
  "nbformat_minor": 0,
  "metadata": {
    "colab": {
      "provenance": [],
      "gpuType": "T4",
      "authorship_tag": "ABX9TyMAuM+n6KA2sPFztBMh8YX1",
      "include_colab_link": true
    },
    "kernelspec": {
      "name": "python3",
      "display_name": "Python 3"
    },
    "language_info": {
      "name": "python"
    }
  },
  "cells": [
    {
      "cell_type": "markdown",
      "metadata": {
        "id": "view-in-github",
        "colab_type": "text"
      },
      "source": [
        "<a href=\"https://colab.research.google.com/github/ugnature/pytorch/blob/main/00_pytorch_fundamentals.ipynb\" target=\"_parent\"><img src=\"https://colab.research.google.com/assets/colab-badge.svg\" alt=\"Open In Colab\"/></a>"
      ]
    },
    {
      "cell_type": "markdown",
      "source": [
        "## 00. Pytorch Fundamentals\n",
        "\n",
        "Resource notebook: https://www.learnpytorch.io/00_pytorch_fundamentals/\n",
        "\n",
        "if you have a question what is going on in this notebook u can come on git hub: https://github.com/mrdbourke/pytorch-deep-learning/discussions"
      ],
      "metadata": {
        "id": "1QTLbErfGqHV"
      }
    },
    {
      "cell_type": "code",
      "execution_count": 1,
      "metadata": {
        "colab": {
          "base_uri": "https://localhost:8080/"
        },
        "id": "08kE-gOTFbhg",
        "outputId": "97e32f01-8175-4989-c471-ff625a27ddc6"
      },
      "outputs": [
        {
          "output_type": "stream",
          "name": "stdout",
          "text": [
            "2.0.1+cu118\n"
          ]
        }
      ],
      "source": [
        "import torch\n",
        "import pandas as pd\n",
        "import numpy as np\n",
        "import matplotlib.pyplot as plt\n",
        "\n",
        "print(torch.__version__)"
      ]
    },
    {
      "cell_type": "markdown",
      "source": [
        "## introductions to Tensors\n",
        "\n",
        "### Creating tensors\n",
        "\n",
        "Pytorch tensors are creating using `torch.tensor()` => https://pytorch.org/docs/stable/tensors.html"
      ],
      "metadata": {
        "id": "_SD_kt-cGNUX"
      }
    },
    {
      "cell_type": "code",
      "source": [
        "# scalar\n",
        "scalar = torch.tensor(7)\n",
        "scalar"
      ],
      "metadata": {
        "colab": {
          "base_uri": "https://localhost:8080/"
        },
        "id": "sPqZh7QGJL91",
        "outputId": "5207dc83-cbc9-424f-b7d6-78adca701ab3"
      },
      "execution_count": 2,
      "outputs": [
        {
          "output_type": "execute_result",
          "data": {
            "text/plain": [
              "tensor(7)"
            ]
          },
          "metadata": {},
          "execution_count": 2
        }
      ]
    },
    {
      "cell_type": "code",
      "source": [
        "scalar.ndim"
      ],
      "metadata": {
        "colab": {
          "base_uri": "https://localhost:8080/"
        },
        "id": "k4dzrvTjLmOF",
        "outputId": "fdd74ccd-1343-4f0a-f6b0-1cfe9ba073f8"
      },
      "execution_count": 3,
      "outputs": [
        {
          "output_type": "execute_result",
          "data": {
            "text/plain": [
              "0"
            ]
          },
          "metadata": {},
          "execution_count": 3
        }
      ]
    },
    {
      "cell_type": "code",
      "source": [
        "# Get tensor back as python integer\n",
        "scalar.item()"
      ],
      "metadata": {
        "colab": {
          "base_uri": "https://localhost:8080/"
        },
        "id": "LTI3pTXxLrEO",
        "outputId": "310ae7e2-e2b8-4101-f29a-3ab62bce4dcb"
      },
      "execution_count": 4,
      "outputs": [
        {
          "output_type": "execute_result",
          "data": {
            "text/plain": [
              "7"
            ]
          },
          "metadata": {},
          "execution_count": 4
        }
      ]
    },
    {
      "cell_type": "code",
      "source": [
        "# Vector\n",
        "vector = torch.tensor([7, 7])\n",
        "vector"
      ],
      "metadata": {
        "colab": {
          "base_uri": "https://localhost:8080/"
        },
        "id": "1onmu05mMYae",
        "outputId": "d9c604d8-40a5-4cd6-e7b7-8f48cc112ff8"
      },
      "execution_count": 5,
      "outputs": [
        {
          "output_type": "execute_result",
          "data": {
            "text/plain": [
              "tensor([7, 7])"
            ]
          },
          "metadata": {},
          "execution_count": 5
        }
      ]
    },
    {
      "cell_type": "code",
      "source": [
        "vector.ndim"
      ],
      "metadata": {
        "colab": {
          "base_uri": "https://localhost:8080/"
        },
        "id": "7aWPXnN1MtsO",
        "outputId": "04074b06-c8e3-4aea-b1ca-8499f5e8ee0c"
      },
      "execution_count": 6,
      "outputs": [
        {
          "output_type": "execute_result",
          "data": {
            "text/plain": [
              "1"
            ]
          },
          "metadata": {},
          "execution_count": 6
        }
      ]
    },
    {
      "cell_type": "code",
      "source": [
        "vector.shape"
      ],
      "metadata": {
        "colab": {
          "base_uri": "https://localhost:8080/"
        },
        "id": "ca3oEIOsNEgT",
        "outputId": "b60dabc5-5dbf-45bb-bd83-917ed32322b3"
      },
      "execution_count": 7,
      "outputs": [
        {
          "output_type": "execute_result",
          "data": {
            "text/plain": [
              "torch.Size([2])"
            ]
          },
          "metadata": {},
          "execution_count": 7
        }
      ]
    },
    {
      "cell_type": "code",
      "source": [
        "# MATRIX\n",
        "MATRIX = torch.tensor([[7,8],[4,5]])\n",
        "MATRIX"
      ],
      "metadata": {
        "colab": {
          "base_uri": "https://localhost:8080/"
        },
        "id": "qe1bSnHjNGkD",
        "outputId": "c773c8c1-1b67-4736-e4a1-81d6f563c5ab"
      },
      "execution_count": 8,
      "outputs": [
        {
          "output_type": "execute_result",
          "data": {
            "text/plain": [
              "tensor([[7, 8],\n",
              "        [4, 5]])"
            ]
          },
          "metadata": {},
          "execution_count": 8
        }
      ]
    },
    {
      "cell_type": "code",
      "source": [
        "MATRIX.ndim"
      ],
      "metadata": {
        "colab": {
          "base_uri": "https://localhost:8080/"
        },
        "id": "Vwp6qErsNeST",
        "outputId": "c099297c-4905-4cfd-9d5d-f8dd31f578fe"
      },
      "execution_count": 9,
      "outputs": [
        {
          "output_type": "execute_result",
          "data": {
            "text/plain": [
              "2"
            ]
          },
          "metadata": {},
          "execution_count": 9
        }
      ]
    },
    {
      "cell_type": "code",
      "source": [
        "MATRIX.shape"
      ],
      "metadata": {
        "colab": {
          "base_uri": "https://localhost:8080/"
        },
        "id": "f7mQtMCLNmxg",
        "outputId": "34f61e89-d301-4f3d-f546-d56c88502036"
      },
      "execution_count": 10,
      "outputs": [
        {
          "output_type": "execute_result",
          "data": {
            "text/plain": [
              "torch.Size([2, 2])"
            ]
          },
          "metadata": {},
          "execution_count": 10
        }
      ]
    },
    {
      "cell_type": "code",
      "source": [
        "MATRIX[0]"
      ],
      "metadata": {
        "colab": {
          "base_uri": "https://localhost:8080/"
        },
        "id": "oknaV8qvNqAn",
        "outputId": "948a56ad-7d9a-465a-95cc-7973c9ebbf0d"
      },
      "execution_count": 11,
      "outputs": [
        {
          "output_type": "execute_result",
          "data": {
            "text/plain": [
              "tensor([7, 8])"
            ]
          },
          "metadata": {},
          "execution_count": 11
        }
      ]
    },
    {
      "cell_type": "code",
      "source": [
        "# TENSOR\n",
        "TENSOR = torch.tensor([[[[1,2,4],\n",
        "                        [3,45,6],\n",
        "                        [4,6,7]],[[1,2,4],\n",
        "                                  [3,45,6],\n",
        "                                  [4,6,7]],[[1,2,4],\n",
        "                                            [3,45,6],\n",
        "                                            [4,6,7]],[[1,2,4],\n",
        "                                                      [3,45,6],\n",
        "                                                      [4,6,7]]],[[[1,2,4],\n",
        "                                                                  [3,45,6],\n",
        "                                                                   [4,6,7]],[[1,2,4],\n",
        "                                                                             [3,45,6],\n",
        "                                                                             [4,6,7]],[[1,2,4],\n",
        "                                                                                       [3,45,6],\n",
        "                                                                                      [4,6,7]],[[1,2,4],\n",
        "                                                                                                 [3,45,6],\n",
        "                                                                                                [4,6,7]]]])\n",
        "TENSOR"
      ],
      "metadata": {
        "colab": {
          "base_uri": "https://localhost:8080/"
        },
        "id": "VObkDTpnN11D",
        "outputId": "375026ff-7a50-41b6-c89c-b1a5b3bd3677"
      },
      "execution_count": 12,
      "outputs": [
        {
          "output_type": "execute_result",
          "data": {
            "text/plain": [
              "tensor([[[[ 1,  2,  4],\n",
              "          [ 3, 45,  6],\n",
              "          [ 4,  6,  7]],\n",
              "\n",
              "         [[ 1,  2,  4],\n",
              "          [ 3, 45,  6],\n",
              "          [ 4,  6,  7]],\n",
              "\n",
              "         [[ 1,  2,  4],\n",
              "          [ 3, 45,  6],\n",
              "          [ 4,  6,  7]],\n",
              "\n",
              "         [[ 1,  2,  4],\n",
              "          [ 3, 45,  6],\n",
              "          [ 4,  6,  7]]],\n",
              "\n",
              "\n",
              "        [[[ 1,  2,  4],\n",
              "          [ 3, 45,  6],\n",
              "          [ 4,  6,  7]],\n",
              "\n",
              "         [[ 1,  2,  4],\n",
              "          [ 3, 45,  6],\n",
              "          [ 4,  6,  7]],\n",
              "\n",
              "         [[ 1,  2,  4],\n",
              "          [ 3, 45,  6],\n",
              "          [ 4,  6,  7]],\n",
              "\n",
              "         [[ 1,  2,  4],\n",
              "          [ 3, 45,  6],\n",
              "          [ 4,  6,  7]]]])"
            ]
          },
          "metadata": {},
          "execution_count": 12
        }
      ]
    },
    {
      "cell_type": "code",
      "source": [
        "TENSOR.ndim"
      ],
      "metadata": {
        "colab": {
          "base_uri": "https://localhost:8080/"
        },
        "id": "mfoez4jSOohO",
        "outputId": "e7592db9-7f1c-4856-b79c-d871a54302c2"
      },
      "execution_count": 13,
      "outputs": [
        {
          "output_type": "execute_result",
          "data": {
            "text/plain": [
              "4"
            ]
          },
          "metadata": {},
          "execution_count": 13
        }
      ]
    },
    {
      "cell_type": "code",
      "source": [
        "TENSOR.shape"
      ],
      "metadata": {
        "colab": {
          "base_uri": "https://localhost:8080/"
        },
        "id": "zafW1K0FOsXl",
        "outputId": "03d8ab19-63b8-4b8d-8e71-c6b48952ceeb"
      },
      "execution_count": 14,
      "outputs": [
        {
          "output_type": "execute_result",
          "data": {
            "text/plain": [
              "torch.Size([2, 4, 3, 3])"
            ]
          },
          "metadata": {},
          "execution_count": 14
        }
      ]
    },
    {
      "cell_type": "code",
      "source": [
        "TENSOR[1]"
      ],
      "metadata": {
        "colab": {
          "base_uri": "https://localhost:8080/"
        },
        "id": "_k3vJpoOT9N_",
        "outputId": "bcd46aa2-49d9-4e36-a72d-9c77dd620cee"
      },
      "execution_count": 15,
      "outputs": [
        {
          "output_type": "execute_result",
          "data": {
            "text/plain": [
              "tensor([[[ 1,  2,  4],\n",
              "         [ 3, 45,  6],\n",
              "         [ 4,  6,  7]],\n",
              "\n",
              "        [[ 1,  2,  4],\n",
              "         [ 3, 45,  6],\n",
              "         [ 4,  6,  7]],\n",
              "\n",
              "        [[ 1,  2,  4],\n",
              "         [ 3, 45,  6],\n",
              "         [ 4,  6,  7]],\n",
              "\n",
              "        [[ 1,  2,  4],\n",
              "         [ 3, 45,  6],\n",
              "         [ 4,  6,  7]]])"
            ]
          },
          "metadata": {},
          "execution_count": 15
        }
      ]
    },
    {
      "cell_type": "markdown",
      "source": [
        "### Rendom Tensors\n",
        "\n",
        "why random tensors?\n",
        "\n",
        "Random tensors are important because the way many neural networks learn is that they start with the tensor full of random numbers and then adjust those random numbers to better represent the data.\n",
        "\n",
        "`start with random numbers -> look at data -> update random numbers -> look at data -> update random numbers`\n",
        "\n",
        "Torch random tensors -> https://pytorch.org/docs/stable/generated/torch.rand.html?highlight=rand#torch.rand"
      ],
      "metadata": {
        "id": "eruOweKaXNCB"
      }
    },
    {
      "cell_type": "code",
      "source": [
        "# Create a random tensos of size (3, 4)\n",
        "\n",
        "random_tensor = torch.rand(3, 4)\n",
        "random_tensor"
      ],
      "metadata": {
        "colab": {
          "base_uri": "https://localhost:8080/"
        },
        "id": "-kh2_Po4XTzK",
        "outputId": "de03139f-a9b9-42fe-b66c-d2a7c7a7f2ea"
      },
      "execution_count": 16,
      "outputs": [
        {
          "output_type": "execute_result",
          "data": {
            "text/plain": [
              "tensor([[0.8972, 0.5611, 0.3910, 0.9443],\n",
              "        [0.3609, 0.5128, 0.5480, 0.3490],\n",
              "        [0.2743, 0.9133, 0.9309, 0.5830]])"
            ]
          },
          "metadata": {},
          "execution_count": 16
        }
      ]
    },
    {
      "cell_type": "code",
      "source": [
        "# number of dimension\n",
        "random_tensor.ndim"
      ],
      "metadata": {
        "colab": {
          "base_uri": "https://localhost:8080/"
        },
        "id": "Rj19Sl6haOPZ",
        "outputId": "cf12db81-7d90-4510-aed9-ed54ce82066c"
      },
      "execution_count": 17,
      "outputs": [
        {
          "output_type": "execute_result",
          "data": {
            "text/plain": [
              "2"
            ]
          },
          "metadata": {},
          "execution_count": 17
        }
      ]
    },
    {
      "cell_type": "code",
      "source": [
        "# Create a random tensor with similar shape to an image tensor\n",
        "\n",
        "random_image_size_tensor = torch.rand(size=(224, 224, 3)) # size=(height, width, color_channels(R, G, B))\n",
        "random_image_size_tensor, \n",
        "random_image_size_tensor.shape, random_image_size_tensor.ndim"
      ],
      "metadata": {
        "colab": {
          "base_uri": "https://localhost:8080/"
        },
        "id": "7NO0xy5haOLg",
        "outputId": "fd98932e-21c8-4b3e-884e-2ff538d24663"
      },
      "execution_count": 18,
      "outputs": [
        {
          "output_type": "execute_result",
          "data": {
            "text/plain": [
              "(torch.Size([224, 224, 3]), 3)"
            ]
          },
          "metadata": {},
          "execution_count": 18
        }
      ]
    },
    {
      "cell_type": "markdown",
      "source": [
        "### Zeros and Ones"
      ],
      "metadata": {
        "id": "yFmXhCwhaOIw"
      }
    },
    {
      "cell_type": "code",
      "source": [
        "# Creata a tensor of all zeros\n",
        "\n",
        "zeros = torch.zeros(size= (3,4))\n",
        "zeros"
      ],
      "metadata": {
        "colab": {
          "base_uri": "https://localhost:8080/"
        },
        "id": "BJpXhInUaOGf",
        "outputId": "66577578-541c-4ba4-d6b1-be4e3abdb471"
      },
      "execution_count": 19,
      "outputs": [
        {
          "output_type": "execute_result",
          "data": {
            "text/plain": [
              "tensor([[0., 0., 0., 0.],\n",
              "        [0., 0., 0., 0.],\n",
              "        [0., 0., 0., 0.]])"
            ]
          },
          "metadata": {},
          "execution_count": 19
        }
      ]
    },
    {
      "cell_type": "code",
      "source": [
        "# Create a tensor of Ones\n",
        "\n",
        "ones = torch.ones(size=(3,4))\n",
        "ones"
      ],
      "metadata": {
        "colab": {
          "base_uri": "https://localhost:8080/"
        },
        "id": "S1oY7OH8aOEZ",
        "outputId": "de5cdd6f-208e-4b9e-f3ed-820ab98eb09a"
      },
      "execution_count": 20,
      "outputs": [
        {
          "output_type": "execute_result",
          "data": {
            "text/plain": [
              "tensor([[1., 1., 1., 1.],\n",
              "        [1., 1., 1., 1.],\n",
              "        [1., 1., 1., 1.]])"
            ]
          },
          "metadata": {},
          "execution_count": 20
        }
      ]
    },
    {
      "cell_type": "code",
      "source": [
        "ones.dtype"
      ],
      "metadata": {
        "colab": {
          "base_uri": "https://localhost:8080/"
        },
        "id": "rZyQD8_faOCb",
        "outputId": "463b72b4-919f-42b6-8af3-72eb2716add1"
      },
      "execution_count": 21,
      "outputs": [
        {
          "output_type": "execute_result",
          "data": {
            "text/plain": [
              "torch.float32"
            ]
          },
          "metadata": {},
          "execution_count": 21
        }
      ]
    },
    {
      "cell_type": "markdown",
      "source": [
        "### Creating a arange of tensors and tensors-like"
      ],
      "metadata": {
        "id": "SR7fuFYF4FVZ"
      }
    },
    {
      "cell_type": "code",
      "source": [
        "# Use torch.arange()\n",
        "five_to_forty = torch.arange(5,40)\n",
        "five_to_forty"
      ],
      "metadata": {
        "colab": {
          "base_uri": "https://localhost:8080/"
        },
        "id": "5RVJmiND4FRk",
        "outputId": "1ec08ca4-3151-4775-e9ff-d7e6dee0f057"
      },
      "execution_count": 22,
      "outputs": [
        {
          "output_type": "execute_result",
          "data": {
            "text/plain": [
              "tensor([ 5,  6,  7,  8,  9, 10, 11, 12, 13, 14, 15, 16, 17, 18, 19, 20, 21, 22,\n",
              "        23, 24, 25, 26, 27, 28, 29, 30, 31, 32, 33, 34, 35, 36, 37, 38, 39])"
            ]
          },
          "metadata": {},
          "execution_count": 22
        }
      ]
    },
    {
      "cell_type": "code",
      "source": [
        "# Use torch.arange()\n",
        "one_to_ten = torch.arange(start=1, end=11, step=1)\n",
        "one_to_ten"
      ],
      "metadata": {
        "colab": {
          "base_uri": "https://localhost:8080/"
        },
        "id": "GVMl1u3f4FO2",
        "outputId": "6f923bfb-aad5-4a84-b5b0-ad97b3f87804"
      },
      "execution_count": 23,
      "outputs": [
        {
          "output_type": "execute_result",
          "data": {
            "text/plain": [
              "tensor([ 1,  2,  3,  4,  5,  6,  7,  8,  9, 10])"
            ]
          },
          "metadata": {},
          "execution_count": 23
        }
      ]
    },
    {
      "cell_type": "code",
      "source": [
        "# Creating tensors like\n",
        "ten_zeros = torch.zeros_like(input=one_to_ten)\n",
        "ten_zeros"
      ],
      "metadata": {
        "colab": {
          "base_uri": "https://localhost:8080/"
        },
        "id": "Jevx4Ab64FMt",
        "outputId": "0b02c99e-7dd1-4316-eb2c-77f547937f65"
      },
      "execution_count": 24,
      "outputs": [
        {
          "output_type": "execute_result",
          "data": {
            "text/plain": [
              "tensor([0, 0, 0, 0, 0, 0, 0, 0, 0, 0])"
            ]
          },
          "metadata": {},
          "execution_count": 24
        }
      ]
    },
    {
      "cell_type": "markdown",
      "source": [
        "### Tensor datatypes\n",
        "\n",
        "**Note:** Tensor datatype is one of the big 3 big errors, you'll run into with PyTorch & deep learning:\n",
        "1. Tensors not right datatype\n",
        "2. Tensors not right shape\n",
        "3. Tensors not on right device\n",
        "\n",
        "Precision in computing -> https://en.wikipedia.org/wiki/Precision_(computer_science)"
      ],
      "metadata": {
        "id": "eA6lCwfe4FKt"
      }
    },
    {
      "cell_type": "code",
      "source": [
        "# Float 32 tensor\n",
        "float_32_tensor = torch.tensor([3.0, 6.0, 9.0], dtype=None, # what datatype is the tensor (e.g. float32 or float16 , int32 etc.)\n",
        "                                                device=None, # what device is your tensor on\n",
        "                                                requires_grad=False) # whether or not to track gradients with this tensors operations\n",
        "float_32_tensor"
      ],
      "metadata": {
        "colab": {
          "base_uri": "https://localhost:8080/"
        },
        "id": "W148BchX4FIv",
        "outputId": "e1da5acb-363f-447e-9a93-96e29b8e1bf2"
      },
      "execution_count": 25,
      "outputs": [
        {
          "output_type": "execute_result",
          "data": {
            "text/plain": [
              "tensor([3., 6., 9.])"
            ]
          },
          "metadata": {},
          "execution_count": 25
        }
      ]
    },
    {
      "cell_type": "code",
      "source": [
        "float_32_tensor.dtype"
      ],
      "metadata": {
        "colab": {
          "base_uri": "https://localhost:8080/"
        },
        "id": "l5ktG2zu4FGB",
        "outputId": "5e477bde-b728-47a8-aac2-76c330f3e52f"
      },
      "execution_count": 26,
      "outputs": [
        {
          "output_type": "execute_result",
          "data": {
            "text/plain": [
              "torch.float32"
            ]
          },
          "metadata": {},
          "execution_count": 26
        }
      ]
    },
    {
      "cell_type": "code",
      "source": [
        "float_16_tensor = float_32_tensor.type(torch.float16)\n",
        "float_16_tensor"
      ],
      "metadata": {
        "colab": {
          "base_uri": "https://localhost:8080/"
        },
        "id": "HwecuL8CAeMc",
        "outputId": "0a58028c-81fd-45c7-c2c4-ac2fd14e8c4c"
      },
      "execution_count": 27,
      "outputs": [
        {
          "output_type": "execute_result",
          "data": {
            "text/plain": [
              "tensor([3., 6., 9.], dtype=torch.float16)"
            ]
          },
          "metadata": {},
          "execution_count": 27
        }
      ]
    },
    {
      "cell_type": "code",
      "source": [
        "# zero dimension tensor is called scalar\n",
        "scalar = torch.tensor(3.14)"
      ],
      "metadata": {
        "id": "bnos2x9eAeJQ"
      },
      "execution_count": 28,
      "outputs": []
    },
    {
      "cell_type": "code",
      "source": [
        "# see this result below, it is zero dimension\n",
        "scalar.ndim"
      ],
      "metadata": {
        "colab": {
          "base_uri": "https://localhost:8080/"
        },
        "id": "xOKPZFP8AeHW",
        "outputId": "4513c69d-6ba9-47ca-f79c-10d17fbe7c4c"
      },
      "execution_count": 29,
      "outputs": [
        {
          "output_type": "execute_result",
          "data": {
            "text/plain": [
              "0"
            ]
          },
          "metadata": {},
          "execution_count": 29
        }
      ]
    },
    {
      "cell_type": "code",
      "source": [
        "float_16_tensor * float_32_tensor"
      ],
      "metadata": {
        "colab": {
          "base_uri": "https://localhost:8080/"
        },
        "id": "C4NUN85kAeFS",
        "outputId": "d2b2fde9-2026-4567-952f-dbfca6a752e8"
      },
      "execution_count": 30,
      "outputs": [
        {
          "output_type": "execute_result",
          "data": {
            "text/plain": [
              "tensor([ 9., 36., 81.])"
            ]
          },
          "metadata": {},
          "execution_count": 30
        }
      ]
    },
    {
      "cell_type": "code",
      "source": [
        "int_32_tensor = float_16_tensor.type(torch.LongTensor)\n",
        "int_32_tensor"
      ],
      "metadata": {
        "colab": {
          "base_uri": "https://localhost:8080/"
        },
        "id": "7-QMt5i9AeDK",
        "outputId": "abc34b2f-1438-434c-f27b-35dfa8feecdb"
      },
      "execution_count": 31,
      "outputs": [
        {
          "output_type": "execute_result",
          "data": {
            "text/plain": [
              "tensor([3, 6, 9])"
            ]
          },
          "metadata": {},
          "execution_count": 31
        }
      ]
    },
    {
      "cell_type": "code",
      "source": [
        "int_32_tensor*float_16_tensor"
      ],
      "metadata": {
        "colab": {
          "base_uri": "https://localhost:8080/"
        },
        "id": "ZwQrJb2SAeAJ",
        "outputId": "87e8cd10-a53c-49e9-ec91-ea9d2d283126"
      },
      "execution_count": 32,
      "outputs": [
        {
          "output_type": "execute_result",
          "data": {
            "text/plain": [
              "tensor([ 9., 36., 81.], dtype=torch.float16)"
            ]
          },
          "metadata": {},
          "execution_count": 32
        }
      ]
    },
    {
      "cell_type": "markdown",
      "source": [
        "### Getting information from tensors (tensor attributes)\n",
        "\n",
        "1. Tensors not right datatype -> to get datatype from a tensor, can use `tensor.dtype`\n",
        "2. Tensors not right shape -> to get shape/size from a tensor, `tensor.shape`\n",
        "3. Tensors not on right device -> to get device from a tensor(e.g. CPU , GPU or TPU), can use `tensor.device` "
      ],
      "metadata": {
        "id": "r6xN1mZRNDLT"
      }
    },
    {
      "cell_type": "code",
      "source": [
        "# Create a tensor\n",
        "some_tensor = torch.rand(4,5, dtype=torch.float16)\n",
        "some_tensor"
      ],
      "metadata": {
        "colab": {
          "base_uri": "https://localhost:8080/"
        },
        "id": "grFcs6gXNDHa",
        "outputId": "d119d612-af76-492c-9ce0-9a3f5cf59765"
      },
      "execution_count": 33,
      "outputs": [
        {
          "output_type": "execute_result",
          "data": {
            "text/plain": [
              "tensor([[0.9146, 0.8926, 0.5659, 0.7090, 0.2715],\n",
              "        [0.0215, 0.3872, 0.3887, 0.2251, 0.1392],\n",
              "        [0.9922, 0.7656, 0.1411, 0.0420, 0.6162],\n",
              "        [0.2305, 0.2393, 0.4341, 0.6602, 0.6543]], dtype=torch.float16)"
            ]
          },
          "metadata": {},
          "execution_count": 33
        }
      ]
    },
    {
      "cell_type": "code",
      "source": [
        "# Find of details about some_tensor\n",
        "# datatype, shape, device\n",
        "print(some_tensor)\n",
        "print(f\"Datatype of tensor: {some_tensor.dtype}, And shape of Tensor: {some_tensor.shape}, at last the device is on: {some_tensor.device}\")"
      ],
      "metadata": {
        "colab": {
          "base_uri": "https://localhost:8080/"
        },
        "id": "luVl25m_NDFL",
        "outputId": "7e3ab5b6-110f-4187-aa56-a13df582a1c1"
      },
      "execution_count": 34,
      "outputs": [
        {
          "output_type": "stream",
          "name": "stdout",
          "text": [
            "tensor([[0.9146, 0.8926, 0.5659, 0.7090, 0.2715],\n",
            "        [0.0215, 0.3872, 0.3887, 0.2251, 0.1392],\n",
            "        [0.9922, 0.7656, 0.1411, 0.0420, 0.6162],\n",
            "        [0.2305, 0.2393, 0.4341, 0.6602, 0.6543]], dtype=torch.float16)\n",
            "Datatype of tensor: torch.float16, And shape of Tensor: torch.Size([4, 5]), at last the device is on: cpu\n"
          ]
        }
      ]
    },
    {
      "cell_type": "markdown",
      "source": [
        "### Manipulating Tensors (tensor operations)\n",
        "\n",
        "Tensor operations include:\n",
        "* Addition\n",
        "* Substraction\n",
        "* Multipication (element-wise)\n",
        "* Division\n",
        "* Matrix multipication"
      ],
      "metadata": {
        "id": "iHXsmatwNDCi"
      }
    },
    {
      "cell_type": "code",
      "source": [
        "# Create a tensor and than add 10 to it\n",
        "tensor = torch.tensor([1,2,3])\n",
        "tensor = tensor + 10\n",
        "tensor"
      ],
      "metadata": {
        "colab": {
          "base_uri": "https://localhost:8080/"
        },
        "id": "PRGZceTONC_-",
        "outputId": "526a4a34-2eb4-4b17-df6c-649ade47d851"
      },
      "execution_count": 35,
      "outputs": [
        {
          "output_type": "execute_result",
          "data": {
            "text/plain": [
              "tensor([11, 12, 13])"
            ]
          },
          "metadata": {},
          "execution_count": 35
        }
      ]
    },
    {
      "cell_type": "code",
      "source": [
        "# Multiply tensor by 10\n",
        "tensor = tensor * 10\n",
        "tensor"
      ],
      "metadata": {
        "colab": {
          "base_uri": "https://localhost:8080/"
        },
        "id": "XqsrEqhWNC-E",
        "outputId": "4f26aada-6c29-49b3-f7dd-a5de3787ee0d"
      },
      "execution_count": 36,
      "outputs": [
        {
          "output_type": "execute_result",
          "data": {
            "text/plain": [
              "tensor([110, 120, 130])"
            ]
          },
          "metadata": {},
          "execution_count": 36
        }
      ]
    },
    {
      "cell_type": "code",
      "source": [
        "# Substract 10 in tensor\n",
        "tensor = tensor - 10\n",
        "tensor"
      ],
      "metadata": {
        "colab": {
          "base_uri": "https://localhost:8080/"
        },
        "id": "w1nm4qVCSQsK",
        "outputId": "a4176635-1e32-423c-e7a6-bc348b716e99"
      },
      "execution_count": 37,
      "outputs": [
        {
          "output_type": "execute_result",
          "data": {
            "text/plain": [
              "tensor([100, 110, 120])"
            ]
          },
          "metadata": {},
          "execution_count": 37
        }
      ]
    },
    {
      "cell_type": "code",
      "source": [
        "# devide the tensor by 10\n",
        "tensor = (tensor / 10)\n",
        "tensor = tensor.type(torch.int32)\n",
        "tensor"
      ],
      "metadata": {
        "colab": {
          "base_uri": "https://localhost:8080/"
        },
        "id": "eDFx0ev9SQov",
        "outputId": "c3839f1f-609c-444e-f576-39ca7947e0a6"
      },
      "execution_count": 38,
      "outputs": [
        {
          "output_type": "execute_result",
          "data": {
            "text/plain": [
              "tensor([10, 11, 12], dtype=torch.int32)"
            ]
          },
          "metadata": {},
          "execution_count": 38
        }
      ]
    },
    {
      "cell_type": "code",
      "source": [
        "# try out PyTorch in-built functions\n",
        "torch.mul(tensor, 10), torch.sub(tensor, 67), torch.div(tensor, 34), torch.add(tensor, 345)"
      ],
      "metadata": {
        "colab": {
          "base_uri": "https://localhost:8080/"
        },
        "id": "QenZFtACSQmR",
        "outputId": "44714318-0922-4237-8676-6a80ba080862"
      },
      "execution_count": 39,
      "outputs": [
        {
          "output_type": "execute_result",
          "data": {
            "text/plain": [
              "(tensor([100, 110, 120], dtype=torch.int32),\n",
              " tensor([-57, -56, -55], dtype=torch.int32),\n",
              " tensor([0.2941, 0.3235, 0.3529]),\n",
              " tensor([355, 356, 357], dtype=torch.int32))"
            ]
          },
          "metadata": {},
          "execution_count": 39
        }
      ]
    },
    {
      "cell_type": "markdown",
      "source": [
        "### Matrix Multipication\n",
        "\n",
        "Two main ways of performing multipication in neural networks and deep learning:\n",
        "\n",
        "1. Element-wise multipication\n",
        "2. Matrix Multipication(dot product)\n",
        "\n",
        "More information on multiplying matrices - https://www.mathsisfun.com/algebra/matrix-multiplying.html\n",
        "\n",
        "More information on multiplying matrices - http://matrixmultiplication.xyz/\n",
        "\n",
        "There are two main rules that performing matrix multipication needs to satisfy: \n",
        "\n",
        "1. The **inner dimensions** must match:\n",
        "* `(3, 2) @ (3, 2)` won't work\n",
        "* `(2, 3) @ (3, 2)` will work\n",
        "* `(3, 2) @ (2, 3)` will work\n",
        "2. The resulting matrix has the shape of the **outer dimensions**:\n",
        "* `(2, 3) @ (3, 2)` => resulting shape `(2, 2)`\n",
        "* `(3, 2) @ (2, 3)` => resulting shape `(3, 3)`"
      ],
      "metadata": {
        "id": "n7WgGs5nSQjx"
      }
    },
    {
      "cell_type": "code",
      "source": [
        "torch.matmul(torch.rand(2, 3), torch.rand(3, 2))"
      ],
      "metadata": {
        "colab": {
          "base_uri": "https://localhost:8080/"
        },
        "id": "H2VV9pg_f68M",
        "outputId": "f492bd60-9bde-47cb-a9de-1e05f0a15c92"
      },
      "execution_count": 40,
      "outputs": [
        {
          "output_type": "execute_result",
          "data": {
            "text/plain": [
              "tensor([[0.5965, 0.6286],\n",
              "        [0.4224, 0.6732]])"
            ]
          },
          "metadata": {},
          "execution_count": 40
        }
      ]
    },
    {
      "cell_type": "code",
      "source": [
        "torch.matmul(torch.rand(3, 2), torch.rand(2, 3)), torch.matmul(torch.rand(3, 2), torch.rand(2, 3)).shape"
      ],
      "metadata": {
        "colab": {
          "base_uri": "https://localhost:8080/"
        },
        "id": "CFGPv5SGhDgF",
        "outputId": "1d96c16b-0467-4db6-ed7b-01e544cf78d7"
      },
      "execution_count": 41,
      "outputs": [
        {
          "output_type": "execute_result",
          "data": {
            "text/plain": [
              "(tensor([[0.8252, 0.9850, 0.1173],\n",
              "         [0.9630, 1.0659, 0.1351],\n",
              "         [0.2832, 0.2685, 0.0387]]),\n",
              " torch.Size([3, 3]))"
            ]
          },
          "metadata": {},
          "execution_count": 41
        }
      ]
    },
    {
      "cell_type": "code",
      "source": [
        "# Element wise multipication\n",
        "print(tensor, \"*\", tensor)\n",
        "print(\"----------------------------\")\n",
        "print(f\"Equals: {tensor * tensor}\")"
      ],
      "metadata": {
        "colab": {
          "base_uri": "https://localhost:8080/"
        },
        "id": "hLu-2VMmSQhV",
        "outputId": "4bea7b7f-aebb-4920-d8be-a14d64f1acef"
      },
      "execution_count": 42,
      "outputs": [
        {
          "output_type": "stream",
          "name": "stdout",
          "text": [
            "tensor([10, 11, 12], dtype=torch.int32) * tensor([10, 11, 12], dtype=torch.int32)\n",
            "----------------------------\n",
            "Equals: tensor([100, 121, 144], dtype=torch.int32)\n"
          ]
        }
      ]
    },
    {
      "cell_type": "code",
      "source": [
        "# Matrix Multipication\n",
        "torch.matmul(tensor, tensor)"
      ],
      "metadata": {
        "colab": {
          "base_uri": "https://localhost:8080/"
        },
        "id": "b-X1NoKUSQes",
        "outputId": "a101c44a-8e89-4725-e745-593b3d3c6e49"
      },
      "execution_count": 43,
      "outputs": [
        {
          "output_type": "execute_result",
          "data": {
            "text/plain": [
              "tensor(365, dtype=torch.int32)"
            ]
          },
          "metadata": {},
          "execution_count": 43
        }
      ]
    },
    {
      "cell_type": "code",
      "source": [
        "tensor"
      ],
      "metadata": {
        "colab": {
          "base_uri": "https://localhost:8080/"
        },
        "id": "H1MTvoQNY191",
        "outputId": "7da7b027-0240-4cc2-eccb-b94d279f9d2c"
      },
      "execution_count": 44,
      "outputs": [
        {
          "output_type": "execute_result",
          "data": {
            "text/plain": [
              "tensor([10, 11, 12], dtype=torch.int32)"
            ]
          },
          "metadata": {},
          "execution_count": 44
        }
      ]
    },
    {
      "cell_type": "code",
      "source": [
        "tensor @ tensor"
      ],
      "metadata": {
        "colab": {
          "base_uri": "https://localhost:8080/"
        },
        "id": "Zv1xsud4fMp5",
        "outputId": "2cb5df2b-4b25-456e-e6bf-622392de60b7"
      },
      "execution_count": 45,
      "outputs": [
        {
          "output_type": "execute_result",
          "data": {
            "text/plain": [
              "tensor(365, dtype=torch.int32)"
            ]
          },
          "metadata": {},
          "execution_count": 45
        }
      ]
    },
    {
      "cell_type": "code",
      "source": [
        "# Matrix Multipication by hand\n",
        "\n",
        "# reason-> we are combining two matrix -- in this case these two are two tensor [10,11,12], [10,11,12] \n",
        "\n",
        "# Matrix multipication: \n",
        "\n",
        "10*10  +  11*11  +  12*12 \n",
        "\n",
        "# output:  365"
      ],
      "metadata": {
        "colab": {
          "base_uri": "https://localhost:8080/"
        },
        "id": "EamsycHYZh2K",
        "outputId": "24ac8b82-fecf-45c0-9aba-8fb0dc2f4753"
      },
      "execution_count": 46,
      "outputs": [
        {
          "output_type": "execute_result",
          "data": {
            "text/plain": [
              "365"
            ]
          },
          "metadata": {},
          "execution_count": 46
        }
      ]
    },
    {
      "cell_type": "code",
      "source": [
        "%%time\n",
        "value = 0\n",
        "for i in range(len(tensor)):\n",
        "  value += tensor[i] * tensor[i]\n",
        "print(value)"
      ],
      "metadata": {
        "colab": {
          "base_uri": "https://localhost:8080/"
        },
        "id": "tZCSjL3aaGF9",
        "outputId": "0bff50aa-c9d2-4ce4-d75d-bba38fae498f"
      },
      "execution_count": 47,
      "outputs": [
        {
          "output_type": "stream",
          "name": "stdout",
          "text": [
            "tensor(365, dtype=torch.int32)\n",
            "CPU times: user 421 µs, sys: 0 ns, total: 421 µs\n",
            "Wall time: 427 µs\n"
          ]
        }
      ]
    },
    {
      "cell_type": "code",
      "source": [
        "%%time\n",
        "torch.matmul(tensor, tensor)"
      ],
      "metadata": {
        "colab": {
          "base_uri": "https://localhost:8080/"
        },
        "id": "a0TYjen4cC91",
        "outputId": "01cfdcb4-1dd5-4e52-8bbf-512212b232a4"
      },
      "execution_count": 48,
      "outputs": [
        {
          "output_type": "stream",
          "name": "stdout",
          "text": [
            "CPU times: user 27 µs, sys: 4 µs, total: 31 µs\n",
            "Wall time: 33.9 µs\n"
          ]
        },
        {
          "output_type": "execute_result",
          "data": {
            "text/plain": [
              "tensor(365, dtype=torch.int32)"
            ]
          },
          "metadata": {},
          "execution_count": 48
        }
      ]
    },
    {
      "cell_type": "markdown",
      "source": [
        "### One of the most common errors in deep learning: shape errors"
      ],
      "metadata": {
        "id": "Q22n0uiJcDCE"
      }
    },
    {
      "cell_type": "code",
      "source": [
        "# Shapes for matrix multipication\n",
        "tensor_A = torch.tensor([[1, 2],\n",
        "                         [3, 4],\n",
        "                         [4, 5]])\n",
        "\n",
        "tensor_B = torch.tensor([[5, 6],\n",
        "                         [7, 9],\n",
        "                         [3, 6]])\n",
        "\n",
        "torch.mm(tensor_A, tensor_B) # torch.mm is short version of torch.matmul"
      ],
      "metadata": {
        "colab": {
          "base_uri": "https://localhost:8080/",
          "height": 205
        },
        "id": "7KybvxNDcDGK",
        "outputId": "33c7e48d-19ed-44f0-ee19-d7f38a811853"
      },
      "execution_count": 49,
      "outputs": [
        {
          "output_type": "error",
          "ename": "RuntimeError",
          "evalue": "ignored",
          "traceback": [
            "\u001b[0;31m---------------------------------------------------------------------------\u001b[0m",
            "\u001b[0;31mRuntimeError\u001b[0m                              Traceback (most recent call last)",
            "\u001b[0;32m<ipython-input-49-bf312c6b8262>\u001b[0m in \u001b[0;36m<cell line: 10>\u001b[0;34m()\u001b[0m\n\u001b[1;32m      8\u001b[0m                          [3, 6]])\n\u001b[1;32m      9\u001b[0m \u001b[0;34m\u001b[0m\u001b[0m\n\u001b[0;32m---> 10\u001b[0;31m \u001b[0mtorch\u001b[0m\u001b[0;34m.\u001b[0m\u001b[0mmm\u001b[0m\u001b[0;34m(\u001b[0m\u001b[0mtensor_A\u001b[0m\u001b[0;34m,\u001b[0m \u001b[0mtensor_B\u001b[0m\u001b[0;34m)\u001b[0m \u001b[0;31m# torch.mm is short version of torch.matmul\u001b[0m\u001b[0;34m\u001b[0m\u001b[0;34m\u001b[0m\u001b[0m\n\u001b[0m",
            "\u001b[0;31mRuntimeError\u001b[0m: mat1 and mat2 shapes cannot be multiplied (3x2 and 3x2)"
          ]
        }
      ]
    },
    {
      "cell_type": "code",
      "source": [
        "tensor_A.shape, tensor_B.shape"
      ],
      "metadata": {
        "colab": {
          "base_uri": "https://localhost:8080/"
        },
        "id": "3cHWVpnScDc5",
        "outputId": "396a3fef-703e-4891-c7ea-0562aa591e85"
      },
      "execution_count": 50,
      "outputs": [
        {
          "output_type": "execute_result",
          "data": {
            "text/plain": [
              "(torch.Size([3, 2]), torch.Size([3, 2]))"
            ]
          },
          "metadata": {},
          "execution_count": 50
        }
      ]
    },
    {
      "cell_type": "markdown",
      "source": [
        "To fix our tensor shape issues, we can manipulate the shape of one of our tensors using a **transpose**.\n",
        "\n",
        "A **transpose** switches the axes or dimensions of a given tensor."
      ],
      "metadata": {
        "id": "RHMusVT5cDhQ"
      }
    },
    {
      "cell_type": "code",
      "source": [
        "print(f\"Original Tensor: {tensor_B}\"),\n",
        "print(f\"Original Tensor shape: {tensor_A.shape}, {tensor_B.shape}\"),\n",
        "print(\"\\n---------------------------\")\n",
        "print(\"\\nnow after using transpose(T) on tensor_B and the manipulated result is:\")\n",
        "print(f\"Manipulated Tensor shape: {tensor_A.shape}, {tensor_B.T.shape}\"),\n",
        "tensor_B.T"
      ],
      "metadata": {
        "colab": {
          "base_uri": "https://localhost:8080/"
        },
        "id": "6qEEVyWbcDlC",
        "outputId": "7806bab1-60ff-4257-f8d1-4295b0359728"
      },
      "execution_count": 52,
      "outputs": [
        {
          "output_type": "stream",
          "name": "stdout",
          "text": [
            "Original Tensor: tensor([[5, 6],\n",
            "        [7, 9],\n",
            "        [3, 6]])\n",
            "Original Tensor shape: torch.Size([3, 2]), torch.Size([3, 2])\n",
            "\n",
            "---------------------------\n",
            "\n",
            "now after using transpose(T) on tensor_B and the manipulated result is:\n",
            "Manipulated Tensor shape: torch.Size([3, 2]), torch.Size([2, 3])\n"
          ]
        },
        {
          "output_type": "execute_result",
          "data": {
            "text/plain": [
              "tensor([[5, 7, 3],\n",
              "        [6, 9, 6]])"
            ]
          },
          "metadata": {},
          "execution_count": 52
        }
      ]
    },
    {
      "cell_type": "code",
      "source": [
        "print(\"Now it works after transposing one of the tensor <- cause inner dimension must match\" )\n",
        "output = torch.mm(tensor_A, tensor_B.T) \n",
        "print(\"Output:\\n\")\n",
        "print(output)\n",
        "print(f\"\\nOutput shape: {output.shape}\")"
      ],
      "metadata": {
        "colab": {
          "base_uri": "https://localhost:8080/"
        },
        "id": "XSEUzVzYqV-u",
        "outputId": "b8a410ae-5045-45df-ccc3-f0cfadee2b2d"
      },
      "execution_count": 53,
      "outputs": [
        {
          "output_type": "stream",
          "name": "stdout",
          "text": [
            "Now it works after transposing one of the tensor <- cause inner dimension must match\n",
            "Output:\n",
            "\n",
            "tensor([[17, 25, 15],\n",
            "        [39, 57, 33],\n",
            "        [50, 73, 42]])\n",
            "\n",
            "Output shape: torch.Size([3, 3])\n"
          ]
        }
      ]
    },
    {
      "cell_type": "markdown",
      "source": [
        "## Finding the min, max, mean, sum, etc (tensor aggregation)"
      ],
      "metadata": {
        "id": "zY27BNOJqV8j"
      }
    },
    {
      "cell_type": "code",
      "source": [
        "# Create a tensor\n",
        "x = torch.arange(1, 100, 10) # 0 to 100 with the step of 10\n",
        "x, x.type"
      ],
      "metadata": {
        "colab": {
          "base_uri": "https://localhost:8080/"
        },
        "id": "FyeCat9wqV6F",
        "outputId": "7307caf7-f0d1-49dd-b6b6-e78da36a29d6"
      },
      "execution_count": 54,
      "outputs": [
        {
          "output_type": "execute_result",
          "data": {
            "text/plain": [
              "(tensor([ 1, 11, 21, 31, 41, 51, 61, 71, 81, 91]), <function Tensor.type>)"
            ]
          },
          "metadata": {},
          "execution_count": 54
        }
      ]
    },
    {
      "cell_type": "code",
      "source": [
        "# Find the min\n",
        "torch.min(x), x.min()"
      ],
      "metadata": {
        "colab": {
          "base_uri": "https://localhost:8080/"
        },
        "id": "cCRrlLLKqV3n",
        "outputId": "f58f9eb8-bb82-4519-a79a-747183d19e85"
      },
      "execution_count": 55,
      "outputs": [
        {
          "output_type": "execute_result",
          "data": {
            "text/plain": [
              "(tensor(1), tensor(1))"
            ]
          },
          "metadata": {},
          "execution_count": 55
        }
      ]
    },
    {
      "cell_type": "code",
      "source": [
        "# Find the max\n",
        "torch.max(x), "
      ],
      "metadata": {
        "colab": {
          "base_uri": "https://localhost:8080/"
        },
        "id": "qErIIkElqVzh",
        "outputId": "96d6cf7c-ad76-48ee-f0d1-0f38b44f0040"
      },
      "execution_count": 56,
      "outputs": [
        {
          "output_type": "execute_result",
          "data": {
            "text/plain": [
              "(tensor(91),)"
            ]
          },
          "metadata": {},
          "execution_count": 56
        }
      ]
    },
    {
      "cell_type": "code",
      "source": [
        "# Find the mean - note: torch.mean() function requires a tensor of float32 or complex datatype\n",
        "torch.mean(x.type(torch.float32)), x.type(torch.complex64).mean()"
      ],
      "metadata": {
        "colab": {
          "base_uri": "https://localhost:8080/"
        },
        "id": "R-H8LZ29wr76",
        "outputId": "fd4d886b-f73f-4cec-b7be-347c28461990"
      },
      "execution_count": 57,
      "outputs": [
        {
          "output_type": "execute_result",
          "data": {
            "text/plain": [
              "(tensor(46.), tensor(46.+0.j))"
            ]
          },
          "metadata": {},
          "execution_count": 57
        }
      ]
    },
    {
      "cell_type": "code",
      "source": [
        "# Find the sum\n",
        "torch.sum(x), x.sum()"
      ],
      "metadata": {
        "colab": {
          "base_uri": "https://localhost:8080/"
        },
        "id": "E9M7h9TKwr4k",
        "outputId": "a40dc4b4-5313-4f64-8fe5-925e51ef4c34"
      },
      "execution_count": 58,
      "outputs": [
        {
          "output_type": "execute_result",
          "data": {
            "text/plain": [
              "(tensor(460), tensor(460))"
            ]
          },
          "metadata": {},
          "execution_count": 58
        }
      ]
    },
    {
      "cell_type": "markdown",
      "source": [
        "## Finding the positional min and max"
      ],
      "metadata": {
        "id": "vXqaFcvb3laA"
      }
    },
    {
      "cell_type": "code",
      "source": [
        "# to get the positional arguments like on which index is the max value or min value\n",
        "print(f\"Tensor: {x}\")\n",
        "print(f\"MAX POSITIONAL VALUE at index: {x.argmax()}\")\n",
        "print(f\"MIN POSITIONAL VALUE at index: {x.argmin()}\")\n",
        "print(f\"index on 9, element: {x[9]}\")"
      ],
      "metadata": {
        "colab": {
          "base_uri": "https://localhost:8080/"
        },
        "id": "VqbjLJR5wr1x",
        "outputId": "a9506d34-27c0-4a42-f8fa-eadfc234c336"
      },
      "execution_count": 61,
      "outputs": [
        {
          "output_type": "stream",
          "name": "stdout",
          "text": [
            "Tensor: tensor([ 1, 11, 21, 31, 41, 51, 61, 71, 81, 91])\n",
            "MAX POSITIONAL VALUE at index: 9\n",
            "MIN POSITIONAL VALUE at index: 0\n",
            "index on 9, element: 91\n"
          ]
        }
      ]
    },
    {
      "cell_type": "markdown",
      "source": [
        "## Reshaping, stacking, squeezing and unsqueezing\n",
        "\n",
        "* Reshaping - reshapes an input tensor to a defined shape\n",
        "* View - Return of view of an input tensor of certain shape but keep the same memory as the original tensor\n",
        "* Stacking - combine multiple tensors on top of each other (vstack) or side by side (hstack)\n"
      ],
      "metadata": {
        "id": "X9gDOGUBwryv"
      }
    },
    {
      "cell_type": "code",
      "source": [],
      "metadata": {
        "id": "fpf_eGdo5nZm"
      },
      "execution_count": null,
      "outputs": []
    },
    {
      "cell_type": "code",
      "source": [],
      "metadata": {
        "id": "ZmpwVOHz5nVT"
      },
      "execution_count": null,
      "outputs": []
    },
    {
      "cell_type": "code",
      "source": [],
      "metadata": {
        "id": "lx0loDHa5nTE"
      },
      "execution_count": null,
      "outputs": []
    },
    {
      "cell_type": "code",
      "source": [],
      "metadata": {
        "id": "yli8MBzf5nQx"
      },
      "execution_count": null,
      "outputs": []
    },
    {
      "cell_type": "code",
      "source": [],
      "metadata": {
        "id": "uoY3JOYd5nOc"
      },
      "execution_count": null,
      "outputs": []
    }
  ]
}