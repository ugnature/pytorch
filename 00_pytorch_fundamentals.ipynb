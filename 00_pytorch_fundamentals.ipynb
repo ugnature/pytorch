{
  "nbformat": 4,
  "nbformat_minor": 0,
  "metadata": {
    "colab": {
      "provenance": [],
      "gpuType": "T4",
      "authorship_tag": "ABX9TyN2/9cLyaSkvtbhXvqLfXEn",
      "include_colab_link": true
    },
    "kernelspec": {
      "name": "python3",
      "display_name": "Python 3"
    },
    "language_info": {
      "name": "python"
    }
  },
  "cells": [
    {
      "cell_type": "markdown",
      "metadata": {
        "id": "view-in-github",
        "colab_type": "text"
      },
      "source": [
        "<a href=\"https://colab.research.google.com/github/ugnature/pytorch/blob/main/00_pytorch_fundamentals.ipynb\" target=\"_parent\"><img src=\"https://colab.research.google.com/assets/colab-badge.svg\" alt=\"Open In Colab\"/></a>"
      ]
    },
    {
      "cell_type": "markdown",
      "source": [
        "## 00. Pytorch Fundamentals\n",
        "\n",
        "Resource notebook: https://www.learnpytorch.io/00_pytorch_fundamentals/\n",
        "\n",
        "if you have a question what is going on in this notebook u can come on git hub: https://github.com/mrdbourke/pytorch-deep-learning/discussions"
      ],
      "metadata": {
        "id": "1QTLbErfGqHV"
      }
    },
    {
      "cell_type": "code",
      "execution_count": 1,
      "metadata": {
        "colab": {
          "base_uri": "https://localhost:8080/"
        },
        "id": "08kE-gOTFbhg",
        "outputId": "c05553b2-3b3c-4bc2-c66f-a054ac2f8e2d"
      },
      "outputs": [
        {
          "output_type": "stream",
          "name": "stdout",
          "text": [
            "2.0.1+cu118\n"
          ]
        }
      ],
      "source": [
        "import torch\n",
        "import pandas as pd\n",
        "import numpy as np\n",
        "import matplotlib.pyplot as plt\n",
        "\n",
        "print(torch.__version__)"
      ]
    },
    {
      "cell_type": "markdown",
      "source": [
        "## introductions to Tensors\n",
        "\n",
        "### Creating tensors\n",
        "\n",
        "Pytorch tensors are creating using `torch.tensor()` => https://pytorch.org/docs/stable/tensors.html"
      ],
      "metadata": {
        "id": "_SD_kt-cGNUX"
      }
    },
    {
      "cell_type": "code",
      "source": [
        "# scalar\n",
        "scalar = torch.tensor(7)\n",
        "scalar"
      ],
      "metadata": {
        "colab": {
          "base_uri": "https://localhost:8080/"
        },
        "id": "sPqZh7QGJL91",
        "outputId": "972bc1f3-67a7-4587-8e1a-a8235f37ca0c"
      },
      "execution_count": 2,
      "outputs": [
        {
          "output_type": "execute_result",
          "data": {
            "text/plain": [
              "tensor(7)"
            ]
          },
          "metadata": {},
          "execution_count": 2
        }
      ]
    },
    {
      "cell_type": "code",
      "source": [
        "scalar.ndim"
      ],
      "metadata": {
        "colab": {
          "base_uri": "https://localhost:8080/"
        },
        "id": "k4dzrvTjLmOF",
        "outputId": "666a4b0d-f903-4d02-dad5-3d0b5fc3584f"
      },
      "execution_count": 3,
      "outputs": [
        {
          "output_type": "execute_result",
          "data": {
            "text/plain": [
              "0"
            ]
          },
          "metadata": {},
          "execution_count": 3
        }
      ]
    },
    {
      "cell_type": "code",
      "source": [
        "# Get tensor back as python integer\n",
        "scalar.item()"
      ],
      "metadata": {
        "colab": {
          "base_uri": "https://localhost:8080/"
        },
        "id": "LTI3pTXxLrEO",
        "outputId": "b08dd8da-6d60-48b9-cdf1-7c5141e32986"
      },
      "execution_count": 4,
      "outputs": [
        {
          "output_type": "execute_result",
          "data": {
            "text/plain": [
              "7"
            ]
          },
          "metadata": {},
          "execution_count": 4
        }
      ]
    },
    {
      "cell_type": "code",
      "source": [
        "# Vector\n",
        "vector = torch.tensor([7, 7])\n",
        "vector"
      ],
      "metadata": {
        "colab": {
          "base_uri": "https://localhost:8080/"
        },
        "id": "1onmu05mMYae",
        "outputId": "01536028-c770-4b99-f975-56fa00dc5b7e"
      },
      "execution_count": 5,
      "outputs": [
        {
          "output_type": "execute_result",
          "data": {
            "text/plain": [
              "tensor([7, 7])"
            ]
          },
          "metadata": {},
          "execution_count": 5
        }
      ]
    },
    {
      "cell_type": "code",
      "source": [
        "vector.ndim"
      ],
      "metadata": {
        "colab": {
          "base_uri": "https://localhost:8080/"
        },
        "id": "7aWPXnN1MtsO",
        "outputId": "6408b5d5-69ea-45c4-d95a-667c9bc43b06"
      },
      "execution_count": 6,
      "outputs": [
        {
          "output_type": "execute_result",
          "data": {
            "text/plain": [
              "1"
            ]
          },
          "metadata": {},
          "execution_count": 6
        }
      ]
    },
    {
      "cell_type": "code",
      "source": [
        "vector.shape"
      ],
      "metadata": {
        "colab": {
          "base_uri": "https://localhost:8080/"
        },
        "id": "ca3oEIOsNEgT",
        "outputId": "468aced1-9beb-480d-e4c1-2b05aec350c4"
      },
      "execution_count": 7,
      "outputs": [
        {
          "output_type": "execute_result",
          "data": {
            "text/plain": [
              "torch.Size([2])"
            ]
          },
          "metadata": {},
          "execution_count": 7
        }
      ]
    },
    {
      "cell_type": "code",
      "source": [
        "# MATRIX\n",
        "MATRIX = torch.tensor([[7,8],[4,5]])\n",
        "MATRIX"
      ],
      "metadata": {
        "colab": {
          "base_uri": "https://localhost:8080/"
        },
        "id": "qe1bSnHjNGkD",
        "outputId": "2f905f6c-83dd-413b-d669-65fa668831f4"
      },
      "execution_count": 8,
      "outputs": [
        {
          "output_type": "execute_result",
          "data": {
            "text/plain": [
              "tensor([[7, 8],\n",
              "        [4, 5]])"
            ]
          },
          "metadata": {},
          "execution_count": 8
        }
      ]
    },
    {
      "cell_type": "code",
      "source": [
        "MATRIX.ndim"
      ],
      "metadata": {
        "colab": {
          "base_uri": "https://localhost:8080/"
        },
        "id": "Vwp6qErsNeST",
        "outputId": "20eac211-3942-4bbb-ffd3-346de41436ad"
      },
      "execution_count": 9,
      "outputs": [
        {
          "output_type": "execute_result",
          "data": {
            "text/plain": [
              "2"
            ]
          },
          "metadata": {},
          "execution_count": 9
        }
      ]
    },
    {
      "cell_type": "code",
      "source": [
        "MATRIX.shape"
      ],
      "metadata": {
        "colab": {
          "base_uri": "https://localhost:8080/"
        },
        "id": "f7mQtMCLNmxg",
        "outputId": "181c8107-6213-488c-c634-0276932f6d72"
      },
      "execution_count": 10,
      "outputs": [
        {
          "output_type": "execute_result",
          "data": {
            "text/plain": [
              "torch.Size([2, 2])"
            ]
          },
          "metadata": {},
          "execution_count": 10
        }
      ]
    },
    {
      "cell_type": "code",
      "source": [
        "MATRIX[0]"
      ],
      "metadata": {
        "colab": {
          "base_uri": "https://localhost:8080/"
        },
        "id": "oknaV8qvNqAn",
        "outputId": "b69aca0b-2cc8-45cb-9ac2-40ffaf6546f2"
      },
      "execution_count": 11,
      "outputs": [
        {
          "output_type": "execute_result",
          "data": {
            "text/plain": [
              "tensor([7, 8])"
            ]
          },
          "metadata": {},
          "execution_count": 11
        }
      ]
    },
    {
      "cell_type": "code",
      "source": [
        "# TENSOR\n",
        "TENSOR = torch.tensor([[[[1,2,4],\n",
        "                        [3,45,6],\n",
        "                        [4,6,7]],[[1,2,4],\n",
        "                                  [3,45,6],\n",
        "                                  [4,6,7]],[[1,2,4],\n",
        "                                            [3,45,6],\n",
        "                                            [4,6,7]],[[1,2,4],\n",
        "                                                      [3,45,6],\n",
        "                                                      [4,6,7]]],[[[1,2,4],\n",
        "                                                                  [3,45,6],\n",
        "                                                                   [4,6,7]],[[1,2,4],\n",
        "                                                                             [3,45,6],\n",
        "                                                                             [4,6,7]],[[1,2,4],\n",
        "                                                                                       [3,45,6],\n",
        "                                                                                      [4,6,7]],[[1,2,4],\n",
        "                                                                                                 [3,45,6],\n",
        "                                                                                                [4,6,7]]]])\n",
        "TENSOR"
      ],
      "metadata": {
        "colab": {
          "base_uri": "https://localhost:8080/"
        },
        "id": "VObkDTpnN11D",
        "outputId": "b7b25fe6-8c83-48b9-fe52-3026d7b84e8e"
      },
      "execution_count": 12,
      "outputs": [
        {
          "output_type": "execute_result",
          "data": {
            "text/plain": [
              "tensor([[[[ 1,  2,  4],\n",
              "          [ 3, 45,  6],\n",
              "          [ 4,  6,  7]],\n",
              "\n",
              "         [[ 1,  2,  4],\n",
              "          [ 3, 45,  6],\n",
              "          [ 4,  6,  7]],\n",
              "\n",
              "         [[ 1,  2,  4],\n",
              "          [ 3, 45,  6],\n",
              "          [ 4,  6,  7]],\n",
              "\n",
              "         [[ 1,  2,  4],\n",
              "          [ 3, 45,  6],\n",
              "          [ 4,  6,  7]]],\n",
              "\n",
              "\n",
              "        [[[ 1,  2,  4],\n",
              "          [ 3, 45,  6],\n",
              "          [ 4,  6,  7]],\n",
              "\n",
              "         [[ 1,  2,  4],\n",
              "          [ 3, 45,  6],\n",
              "          [ 4,  6,  7]],\n",
              "\n",
              "         [[ 1,  2,  4],\n",
              "          [ 3, 45,  6],\n",
              "          [ 4,  6,  7]],\n",
              "\n",
              "         [[ 1,  2,  4],\n",
              "          [ 3, 45,  6],\n",
              "          [ 4,  6,  7]]]])"
            ]
          },
          "metadata": {},
          "execution_count": 12
        }
      ]
    },
    {
      "cell_type": "code",
      "source": [
        "TENSOR.ndim"
      ],
      "metadata": {
        "colab": {
          "base_uri": "https://localhost:8080/"
        },
        "id": "mfoez4jSOohO",
        "outputId": "6642e15f-7a1a-490f-d9d1-49bebfac3582"
      },
      "execution_count": 13,
      "outputs": [
        {
          "output_type": "execute_result",
          "data": {
            "text/plain": [
              "4"
            ]
          },
          "metadata": {},
          "execution_count": 13
        }
      ]
    },
    {
      "cell_type": "code",
      "source": [
        "TENSOR.shape"
      ],
      "metadata": {
        "colab": {
          "base_uri": "https://localhost:8080/"
        },
        "id": "zafW1K0FOsXl",
        "outputId": "8a465953-6ab2-4f6a-e041-b2d4419e71ca"
      },
      "execution_count": 14,
      "outputs": [
        {
          "output_type": "execute_result",
          "data": {
            "text/plain": [
              "torch.Size([2, 4, 3, 3])"
            ]
          },
          "metadata": {},
          "execution_count": 14
        }
      ]
    },
    {
      "cell_type": "code",
      "source": [
        "TENSOR[1]"
      ],
      "metadata": {
        "colab": {
          "base_uri": "https://localhost:8080/"
        },
        "id": "_k3vJpoOT9N_",
        "outputId": "22d71f87-5d36-428b-eeda-e61e34b0bfa1"
      },
      "execution_count": 15,
      "outputs": [
        {
          "output_type": "execute_result",
          "data": {
            "text/plain": [
              "tensor([[[ 1,  2,  4],\n",
              "         [ 3, 45,  6],\n",
              "         [ 4,  6,  7]],\n",
              "\n",
              "        [[ 1,  2,  4],\n",
              "         [ 3, 45,  6],\n",
              "         [ 4,  6,  7]],\n",
              "\n",
              "        [[ 1,  2,  4],\n",
              "         [ 3, 45,  6],\n",
              "         [ 4,  6,  7]],\n",
              "\n",
              "        [[ 1,  2,  4],\n",
              "         [ 3, 45,  6],\n",
              "         [ 4,  6,  7]]])"
            ]
          },
          "metadata": {},
          "execution_count": 15
        }
      ]
    },
    {
      "cell_type": "markdown",
      "source": [
        "### Rendom Tensors\n",
        "\n",
        "why random tensors?\n",
        "\n",
        "Random tensors are important because the way many neural networks learn is that they start with the tensor full of random numbers and then adjust those random numbers to better represent the data.\n",
        "\n",
        "`start with random numbers -> look at data -> update random numbers -> look at data -> update random numbers`\n",
        "\n",
        "Torch random tensors -> https://pytorch.org/docs/stable/generated/torch.rand.html?highlight=rand#torch.rand"
      ],
      "metadata": {
        "id": "eruOweKaXNCB"
      }
    },
    {
      "cell_type": "code",
      "source": [
        "# Create a random tensos of size (3, 4)\n",
        "\n",
        "random_tensor = torch.rand(3, 4)\n",
        "random_tensor"
      ],
      "metadata": {
        "colab": {
          "base_uri": "https://localhost:8080/"
        },
        "id": "-kh2_Po4XTzK",
        "outputId": "ee6b7047-4930-4364-e745-3238180d7735"
      },
      "execution_count": 16,
      "outputs": [
        {
          "output_type": "execute_result",
          "data": {
            "text/plain": [
              "tensor([[0.2547, 0.0870, 0.0997, 0.8925],\n",
              "        [0.5787, 0.5252, 0.1834, 0.9834],\n",
              "        [0.6171, 0.4336, 0.6203, 0.5997]])"
            ]
          },
          "metadata": {},
          "execution_count": 16
        }
      ]
    },
    {
      "cell_type": "code",
      "source": [
        "# number of dimension\n",
        "random_tensor.ndim"
      ],
      "metadata": {
        "colab": {
          "base_uri": "https://localhost:8080/"
        },
        "id": "Rj19Sl6haOPZ",
        "outputId": "561fcedd-43df-44d9-b2a3-d47a7bef8de8"
      },
      "execution_count": 17,
      "outputs": [
        {
          "output_type": "execute_result",
          "data": {
            "text/plain": [
              "2"
            ]
          },
          "metadata": {},
          "execution_count": 17
        }
      ]
    },
    {
      "cell_type": "code",
      "source": [
        "# Create a random tensor with similar shape to an image tensor\n",
        "\n",
        "random_image_size_tensor = torch.rand(size=(224, 224, 3)) # size=(height, width, color_channels(R, G, B))\n",
        "random_image_size_tensor, \n",
        "random_image_size_tensor.shape, random_image_size_tensor.ndim"
      ],
      "metadata": {
        "colab": {
          "base_uri": "https://localhost:8080/"
        },
        "id": "7NO0xy5haOLg",
        "outputId": "9e3aac66-c950-4941-c3a0-0bc5c220250b"
      },
      "execution_count": 18,
      "outputs": [
        {
          "output_type": "execute_result",
          "data": {
            "text/plain": [
              "(torch.Size([224, 224, 3]), 3)"
            ]
          },
          "metadata": {},
          "execution_count": 18
        }
      ]
    },
    {
      "cell_type": "markdown",
      "source": [
        "### Zeros and Ones"
      ],
      "metadata": {
        "id": "yFmXhCwhaOIw"
      }
    },
    {
      "cell_type": "code",
      "source": [
        "# Creata a tensor of all zeros\n",
        "\n",
        "zeros = torch.zeros(size= (3,4))\n",
        "zeros"
      ],
      "metadata": {
        "colab": {
          "base_uri": "https://localhost:8080/"
        },
        "id": "BJpXhInUaOGf",
        "outputId": "0033c823-00a5-422b-e57d-cf827759259c"
      },
      "execution_count": 19,
      "outputs": [
        {
          "output_type": "execute_result",
          "data": {
            "text/plain": [
              "tensor([[0., 0., 0., 0.],\n",
              "        [0., 0., 0., 0.],\n",
              "        [0., 0., 0., 0.]])"
            ]
          },
          "metadata": {},
          "execution_count": 19
        }
      ]
    },
    {
      "cell_type": "code",
      "source": [
        "# Create a tensor of Ones\n",
        "\n",
        "ones = torch.ones(size=(3,4))\n",
        "ones"
      ],
      "metadata": {
        "colab": {
          "base_uri": "https://localhost:8080/"
        },
        "id": "S1oY7OH8aOEZ",
        "outputId": "0c170517-63e0-4eaf-bd88-285a36177960"
      },
      "execution_count": 20,
      "outputs": [
        {
          "output_type": "execute_result",
          "data": {
            "text/plain": [
              "tensor([[1., 1., 1., 1.],\n",
              "        [1., 1., 1., 1.],\n",
              "        [1., 1., 1., 1.]])"
            ]
          },
          "metadata": {},
          "execution_count": 20
        }
      ]
    },
    {
      "cell_type": "code",
      "source": [
        "ones.dtype"
      ],
      "metadata": {
        "colab": {
          "base_uri": "https://localhost:8080/"
        },
        "id": "rZyQD8_faOCb",
        "outputId": "0e9d8e09-f40c-402e-c5ce-19067c7a2a2e"
      },
      "execution_count": 21,
      "outputs": [
        {
          "output_type": "execute_result",
          "data": {
            "text/plain": [
              "torch.float32"
            ]
          },
          "metadata": {},
          "execution_count": 21
        }
      ]
    },
    {
      "cell_type": "markdown",
      "source": [
        "### Creating a arange of tensors and tensors-like"
      ],
      "metadata": {
        "id": "SR7fuFYF4FVZ"
      }
    },
    {
      "cell_type": "code",
      "source": [
        "# Use torch.arange()\n",
        "five_to_forty = torch.arange(5,40)\n",
        "five_to_forty"
      ],
      "metadata": {
        "colab": {
          "base_uri": "https://localhost:8080/"
        },
        "id": "5RVJmiND4FRk",
        "outputId": "93136619-afd1-4199-8fc2-da253c0973ae"
      },
      "execution_count": 22,
      "outputs": [
        {
          "output_type": "execute_result",
          "data": {
            "text/plain": [
              "tensor([ 5,  6,  7,  8,  9, 10, 11, 12, 13, 14, 15, 16, 17, 18, 19, 20, 21, 22,\n",
              "        23, 24, 25, 26, 27, 28, 29, 30, 31, 32, 33, 34, 35, 36, 37, 38, 39])"
            ]
          },
          "metadata": {},
          "execution_count": 22
        }
      ]
    },
    {
      "cell_type": "code",
      "source": [
        "# Use torch.arange()\n",
        "one_to_ten = torch.arange(start=1, end=11, step=1)\n",
        "one_to_ten"
      ],
      "metadata": {
        "colab": {
          "base_uri": "https://localhost:8080/"
        },
        "id": "GVMl1u3f4FO2",
        "outputId": "b7a014ec-01ee-4c27-bb29-0ba19b063587"
      },
      "execution_count": 23,
      "outputs": [
        {
          "output_type": "execute_result",
          "data": {
            "text/plain": [
              "tensor([ 1,  2,  3,  4,  5,  6,  7,  8,  9, 10])"
            ]
          },
          "metadata": {},
          "execution_count": 23
        }
      ]
    },
    {
      "cell_type": "code",
      "source": [
        "# Creating tensors like\n",
        "ten_zeros = torch.zeros_like(input=one_to_ten)\n",
        "ten_zeros"
      ],
      "metadata": {
        "colab": {
          "base_uri": "https://localhost:8080/"
        },
        "id": "Jevx4Ab64FMt",
        "outputId": "48e3bd9a-a4e0-4072-eb66-392220923404"
      },
      "execution_count": 24,
      "outputs": [
        {
          "output_type": "execute_result",
          "data": {
            "text/plain": [
              "tensor([0, 0, 0, 0, 0, 0, 0, 0, 0, 0])"
            ]
          },
          "metadata": {},
          "execution_count": 24
        }
      ]
    },
    {
      "cell_type": "markdown",
      "source": [
        "### Tensor datatypes\n",
        "\n",
        "**Note:** Tensor datatype is one of the big 3 big errors, you'll run into with PyTorch & deep learning:\n",
        "1. Tensors not right datatype\n",
        "2. Tensors not right shape\n",
        "3. Tensors not on right device\n",
        "\n",
        "Precision in computing -> https://en.wikipedia.org/wiki/Precision_(computer_science)"
      ],
      "metadata": {
        "id": "eA6lCwfe4FKt"
      }
    },
    {
      "cell_type": "code",
      "source": [
        "# Float 32 tensor\n",
        "float_32_tensor = torch.tensor([3.0, 6.0, 9.0], dtype=None, # what datatype is the tensor (e.g. float32 or float16 , int32 etc.)\n",
        "                                                device=None, # what device is your tensor on\n",
        "                                                requires_grad=False) # whether or not to track gradients with this tensors operations\n",
        "float_32_tensor"
      ],
      "metadata": {
        "colab": {
          "base_uri": "https://localhost:8080/"
        },
        "id": "W148BchX4FIv",
        "outputId": "06d2e951-e4e4-49fc-8ee4-772a26700b9f"
      },
      "execution_count": 25,
      "outputs": [
        {
          "output_type": "execute_result",
          "data": {
            "text/plain": [
              "tensor([3., 6., 9.])"
            ]
          },
          "metadata": {},
          "execution_count": 25
        }
      ]
    },
    {
      "cell_type": "code",
      "source": [
        "float_32_tensor.dtype"
      ],
      "metadata": {
        "colab": {
          "base_uri": "https://localhost:8080/"
        },
        "id": "l5ktG2zu4FGB",
        "outputId": "10836905-023b-408b-ea42-f6803c8e59d9"
      },
      "execution_count": 26,
      "outputs": [
        {
          "output_type": "execute_result",
          "data": {
            "text/plain": [
              "torch.float32"
            ]
          },
          "metadata": {},
          "execution_count": 26
        }
      ]
    },
    {
      "cell_type": "code",
      "source": [
        "float_16_tensor = float_32_tensor.type(torch.float16)\n",
        "float_16_tensor"
      ],
      "metadata": {
        "colab": {
          "base_uri": "https://localhost:8080/"
        },
        "id": "HwecuL8CAeMc",
        "outputId": "26e10317-11f1-4fc7-8b6d-cf0fa987b977"
      },
      "execution_count": 27,
      "outputs": [
        {
          "output_type": "execute_result",
          "data": {
            "text/plain": [
              "tensor([3., 6., 9.], dtype=torch.float16)"
            ]
          },
          "metadata": {},
          "execution_count": 27
        }
      ]
    },
    {
      "cell_type": "code",
      "source": [
        "# zero dimension tensor is called scalar\n",
        "scalar = torch.tensor(3.14)"
      ],
      "metadata": {
        "id": "bnos2x9eAeJQ"
      },
      "execution_count": 28,
      "outputs": []
    },
    {
      "cell_type": "code",
      "source": [
        "# see this result below, it is zero dimension\n",
        "scalar.ndim"
      ],
      "metadata": {
        "colab": {
          "base_uri": "https://localhost:8080/"
        },
        "id": "xOKPZFP8AeHW",
        "outputId": "34103410-4df0-44aa-c8c6-77480892e8d5"
      },
      "execution_count": 29,
      "outputs": [
        {
          "output_type": "execute_result",
          "data": {
            "text/plain": [
              "0"
            ]
          },
          "metadata": {},
          "execution_count": 29
        }
      ]
    },
    {
      "cell_type": "code",
      "source": [
        "float_16_tensor * float_32_tensor"
      ],
      "metadata": {
        "colab": {
          "base_uri": "https://localhost:8080/"
        },
        "id": "C4NUN85kAeFS",
        "outputId": "17287c85-5591-40fb-dcc4-be1922b1e6bd"
      },
      "execution_count": 30,
      "outputs": [
        {
          "output_type": "execute_result",
          "data": {
            "text/plain": [
              "tensor([ 9., 36., 81.])"
            ]
          },
          "metadata": {},
          "execution_count": 30
        }
      ]
    },
    {
      "cell_type": "code",
      "source": [
        "int_32_tensor = float_16_tensor.type(torch.LongTensor)\n",
        "int_32_tensor"
      ],
      "metadata": {
        "colab": {
          "base_uri": "https://localhost:8080/"
        },
        "id": "7-QMt5i9AeDK",
        "outputId": "c322b1b1-5716-4ecf-99c8-c05efb59b099"
      },
      "execution_count": 31,
      "outputs": [
        {
          "output_type": "execute_result",
          "data": {
            "text/plain": [
              "tensor([3, 6, 9])"
            ]
          },
          "metadata": {},
          "execution_count": 31
        }
      ]
    },
    {
      "cell_type": "code",
      "source": [
        "int_32_tensor*float_16_tensor"
      ],
      "metadata": {
        "colab": {
          "base_uri": "https://localhost:8080/"
        },
        "id": "ZwQrJb2SAeAJ",
        "outputId": "ff6b43a2-ed49-4ff8-88bc-1bb8912e9a0e"
      },
      "execution_count": 32,
      "outputs": [
        {
          "output_type": "execute_result",
          "data": {
            "text/plain": [
              "tensor([ 9., 36., 81.], dtype=torch.float16)"
            ]
          },
          "metadata": {},
          "execution_count": 32
        }
      ]
    },
    {
      "cell_type": "markdown",
      "source": [
        "### Getting information from tensors (tensor attributes)\n",
        "\n",
        "1. Tensors not right datatype -> to get datatype from a tensor, can use `tensor.dtype`\n",
        "2. Tensors not right shape -> to get shape/size from a tensor, `tensor.shape`\n",
        "3. Tensors not on right device -> to get device from a tensor(e.g. CPU , GPU or TPU), can use `tensor.device` "
      ],
      "metadata": {
        "id": "r6xN1mZRNDLT"
      }
    },
    {
      "cell_type": "code",
      "source": [
        "# Create a tensor\n",
        "some_tensor = torch.rand(4,5, dtype=torch.float16)\n",
        "some_tensor"
      ],
      "metadata": {
        "colab": {
          "base_uri": "https://localhost:8080/"
        },
        "id": "grFcs6gXNDHa",
        "outputId": "90fbfa9d-54ae-485e-8776-49089d41c535"
      },
      "execution_count": 33,
      "outputs": [
        {
          "output_type": "execute_result",
          "data": {
            "text/plain": [
              "tensor([[0.6011, 0.2300, 0.9648, 0.1250, 0.0508],\n",
              "        [0.4648, 0.5000, 0.7637, 0.5913, 0.9912],\n",
              "        [0.7339, 0.0610, 0.4170, 0.0684, 0.7275],\n",
              "        [0.8223, 0.4517, 0.6167, 0.2329, 0.1772]], dtype=torch.float16)"
            ]
          },
          "metadata": {},
          "execution_count": 33
        }
      ]
    },
    {
      "cell_type": "code",
      "source": [
        "# Find of details about some_tensor\n",
        "# datatype, shape, device\n",
        "print(some_tensor)\n",
        "print(f\"Datatype of tensor: {some_tensor.dtype}, And shape of Tensor: {some_tensor.shape}, at last the device is on: {some_tensor.device}\")"
      ],
      "metadata": {
        "colab": {
          "base_uri": "https://localhost:8080/"
        },
        "id": "luVl25m_NDFL",
        "outputId": "3ca77cb0-3c5e-4024-c563-47b957794c58"
      },
      "execution_count": 34,
      "outputs": [
        {
          "output_type": "stream",
          "name": "stdout",
          "text": [
            "tensor([[0.6011, 0.2300, 0.9648, 0.1250, 0.0508],\n",
            "        [0.4648, 0.5000, 0.7637, 0.5913, 0.9912],\n",
            "        [0.7339, 0.0610, 0.4170, 0.0684, 0.7275],\n",
            "        [0.8223, 0.4517, 0.6167, 0.2329, 0.1772]], dtype=torch.float16)\n",
            "Datatype of tensor: torch.float16, And shape of Tensor: torch.Size([4, 5]), at last the device is on: cpu\n"
          ]
        }
      ]
    },
    {
      "cell_type": "markdown",
      "source": [
        "### Manipulating Tensors (tensor operations)\n",
        "\n",
        "Tensor operations include:\n",
        "* Addition\n",
        "* Substraction\n",
        "* Multipication (element-wise)\n",
        "* Division\n",
        "* Matrix multipication"
      ],
      "metadata": {
        "id": "iHXsmatwNDCi"
      }
    },
    {
      "cell_type": "code",
      "source": [
        "# Create a tensor and than add 10 to it\n",
        "tensor = torch.tensor([1,2,3])\n",
        "tensor = tensor + 10\n",
        "tensor"
      ],
      "metadata": {
        "colab": {
          "base_uri": "https://localhost:8080/"
        },
        "id": "PRGZceTONC_-",
        "outputId": "0d985ba7-aea2-44cc-b56d-82bb39428d69"
      },
      "execution_count": 64,
      "outputs": [
        {
          "output_type": "execute_result",
          "data": {
            "text/plain": [
              "tensor([11, 12, 13])"
            ]
          },
          "metadata": {},
          "execution_count": 64
        }
      ]
    },
    {
      "cell_type": "code",
      "source": [
        "# Multiply tensor by 10\n",
        "tensor = tensor * 10\n",
        "tensor"
      ],
      "metadata": {
        "colab": {
          "base_uri": "https://localhost:8080/"
        },
        "id": "XqsrEqhWNC-E",
        "outputId": "3392f0cd-096d-4257-865e-ad435e2c232b"
      },
      "execution_count": 65,
      "outputs": [
        {
          "output_type": "execute_result",
          "data": {
            "text/plain": [
              "tensor([110, 120, 130])"
            ]
          },
          "metadata": {},
          "execution_count": 65
        }
      ]
    },
    {
      "cell_type": "code",
      "source": [
        "# Substract 10 in tensor\n",
        "tensor = tensor - 10\n",
        "tensor"
      ],
      "metadata": {
        "colab": {
          "base_uri": "https://localhost:8080/"
        },
        "id": "w1nm4qVCSQsK",
        "outputId": "cda31660-9b8f-440a-f57e-4b16017ef5ee"
      },
      "execution_count": 66,
      "outputs": [
        {
          "output_type": "execute_result",
          "data": {
            "text/plain": [
              "tensor([100, 110, 120])"
            ]
          },
          "metadata": {},
          "execution_count": 66
        }
      ]
    },
    {
      "cell_type": "code",
      "source": [
        "# devide the tensor by 10\n",
        "tensor = (tensor / 10)\n",
        "tensor = tensor.type(torch.int32)\n",
        "tensor"
      ],
      "metadata": {
        "colab": {
          "base_uri": "https://localhost:8080/"
        },
        "id": "eDFx0ev9SQov",
        "outputId": "3f8c15aa-a6d5-4d60-cc32-c23d39f54c5a"
      },
      "execution_count": 67,
      "outputs": [
        {
          "output_type": "execute_result",
          "data": {
            "text/plain": [
              "tensor([10, 11, 12], dtype=torch.int32)"
            ]
          },
          "metadata": {},
          "execution_count": 67
        }
      ]
    },
    {
      "cell_type": "code",
      "source": [
        "# try out PyTorch in-built functions\n",
        "torch.mul(tensor, 10), torch.sub(tensor, 67), torch.div(tensor, 34), torch.add(tensor, 345)"
      ],
      "metadata": {
        "colab": {
          "base_uri": "https://localhost:8080/"
        },
        "id": "QenZFtACSQmR",
        "outputId": "9792e34d-9e9f-43a8-d4f9-4c38c769baa3"
      },
      "execution_count": 71,
      "outputs": [
        {
          "output_type": "execute_result",
          "data": {
            "text/plain": [
              "(tensor([100, 110, 120], dtype=torch.int32),\n",
              " tensor([-57, -56, -55], dtype=torch.int32),\n",
              " tensor([0.2941, 0.3235, 0.3529]),\n",
              " tensor([355, 356, 357], dtype=torch.int32))"
            ]
          },
          "metadata": {},
          "execution_count": 71
        }
      ]
    },
    {
      "cell_type": "markdown",
      "source": [
        "### Matrix Multipication\n",
        "\n",
        "Two main ways of performing multipication in neural networks and deep learning:\n",
        "\n",
        "1. Element-wise multipication\n",
        "2. Matrix Multipication(dot product)\n",
        "\n",
        "More information on multiplying matrices - https://www.mathsisfun.com/algebra/matrix-multiplying.html\n",
        "\n",
        "More information on multiplying matrices - http://matrixmultiplication.xyz/\n",
        "\n",
        "There are two main rules that performing matrix multipication needs to satisfy: \n",
        "\n",
        "1. The **inner dimensions** must match:\n",
        "* `(3, 2) @ (3, 2)` won't work\n",
        "* `(2, 3) @ (3, 2)` will work\n",
        "* `(3, 2) @ (2, 3)` will work\n",
        "2. The resulting matrix has the shape of the **outer dimensions**:\n",
        "* `(2, 3) @ (3, 2)` => resulting shape `(2, 2)`\n",
        "* `(3, 2) @ (2, 3)` => resulting shape `(3, 3)`"
      ],
      "metadata": {
        "id": "n7WgGs5nSQjx"
      }
    },
    {
      "cell_type": "code",
      "source": [
        "torch.matmul(torch.rand(2, 3), torch.rand(3, 2))"
      ],
      "metadata": {
        "colab": {
          "base_uri": "https://localhost:8080/"
        },
        "id": "H2VV9pg_f68M",
        "outputId": "a601c96a-7c66-4735-9c07-2ed1f4fdef10"
      },
      "execution_count": 101,
      "outputs": [
        {
          "output_type": "execute_result",
          "data": {
            "text/plain": [
              "tensor([[0.0422, 0.3562],\n",
              "        [0.1798, 1.1046]])"
            ]
          },
          "metadata": {},
          "execution_count": 101
        }
      ]
    },
    {
      "cell_type": "code",
      "source": [
        "torch.matmul(torch.rand(3, 2), torch.rand(2, 3)), torch.matmul(torch.rand(3, 2), torch.rand(2, 3)).shape"
      ],
      "metadata": {
        "colab": {
          "base_uri": "https://localhost:8080/"
        },
        "id": "CFGPv5SGhDgF",
        "outputId": "4f560db9-0579-4287-daa5-20776f8d7ff5"
      },
      "execution_count": 119,
      "outputs": [
        {
          "output_type": "execute_result",
          "data": {
            "text/plain": [
              "(tensor([[0.6990, 0.3817, 0.0985],\n",
              "         [0.9688, 0.6037, 0.3085],\n",
              "         [0.2502, 0.1718, 0.1163]]),\n",
              " torch.Size([3, 3]))"
            ]
          },
          "metadata": {},
          "execution_count": 119
        }
      ]
    },
    {
      "cell_type": "code",
      "source": [
        "# Element wise multipication\n",
        "print(tensor, \"*\", tensor)\n",
        "print(\"----------------------------\")\n",
        "print(f\"Equals: {tensor * tensor}\")"
      ],
      "metadata": {
        "colab": {
          "base_uri": "https://localhost:8080/"
        },
        "id": "hLu-2VMmSQhV",
        "outputId": "fd276b82-c12e-4cd0-9803-e7e7a3b7126b"
      },
      "execution_count": 77,
      "outputs": [
        {
          "output_type": "stream",
          "name": "stdout",
          "text": [
            "tensor([10, 11, 12], dtype=torch.int32) * tensor([10, 11, 12], dtype=torch.int32)\n",
            "----------------------------\n",
            "Equals: tensor([100, 121, 144], dtype=torch.int32)\n"
          ]
        }
      ]
    },
    {
      "cell_type": "code",
      "source": [
        "# Matrix Multipication\n",
        "torch.matmul(tensor, tensor)"
      ],
      "metadata": {
        "colab": {
          "base_uri": "https://localhost:8080/"
        },
        "id": "b-X1NoKUSQes",
        "outputId": "b86a3dc7-7321-46f0-a27b-3bdf27639dde"
      },
      "execution_count": 80,
      "outputs": [
        {
          "output_type": "execute_result",
          "data": {
            "text/plain": [
              "tensor(365, dtype=torch.int32)"
            ]
          },
          "metadata": {},
          "execution_count": 80
        }
      ]
    },
    {
      "cell_type": "code",
      "source": [
        "tensor"
      ],
      "metadata": {
        "colab": {
          "base_uri": "https://localhost:8080/"
        },
        "id": "H1MTvoQNY191",
        "outputId": "75e07358-e4f1-422d-a382-f4a372cdb3ec"
      },
      "execution_count": 81,
      "outputs": [
        {
          "output_type": "execute_result",
          "data": {
            "text/plain": [
              "tensor([10, 11, 12], dtype=torch.int32)"
            ]
          },
          "metadata": {},
          "execution_count": 81
        }
      ]
    },
    {
      "cell_type": "code",
      "source": [
        "tensor @ tensor"
      ],
      "metadata": {
        "colab": {
          "base_uri": "https://localhost:8080/"
        },
        "id": "Zv1xsud4fMp5",
        "outputId": "8fa259ba-c63d-430c-c223-3e3c97dbad68"
      },
      "execution_count": 95,
      "outputs": [
        {
          "output_type": "execute_result",
          "data": {
            "text/plain": [
              "tensor(365, dtype=torch.int32)"
            ]
          },
          "metadata": {},
          "execution_count": 95
        }
      ]
    },
    {
      "cell_type": "code",
      "source": [
        "# Matrix Multipication by hand\n",
        "\n",
        "# reason-> we are combining two matrix -- in this case these two are two tensor [10,11,12], [10,11,12] \n",
        "\n",
        "# Matrix multipication: \n",
        "\n",
        "10*10  +  11*11  +  12*12 \n",
        "\n",
        "# output:  365"
      ],
      "metadata": {
        "colab": {
          "base_uri": "https://localhost:8080/"
        },
        "id": "EamsycHYZh2K",
        "outputId": "6e19d163-3b63-4d3b-d4a3-ed60aa5854f2"
      },
      "execution_count": 84,
      "outputs": [
        {
          "output_type": "execute_result",
          "data": {
            "text/plain": [
              "365"
            ]
          },
          "metadata": {},
          "execution_count": 84
        }
      ]
    },
    {
      "cell_type": "code",
      "source": [
        "%%time\n",
        "value = 0\n",
        "for i in range(len(tensor)):\n",
        "  value += tensor[i] * tensor[i]\n",
        "print(value)"
      ],
      "metadata": {
        "colab": {
          "base_uri": "https://localhost:8080/"
        },
        "id": "tZCSjL3aaGF9",
        "outputId": "c7ebca93-b0e6-4bd1-e0b2-b30cda1e0c9a"
      },
      "execution_count": 93,
      "outputs": [
        {
          "output_type": "stream",
          "name": "stdout",
          "text": [
            "tensor(365, dtype=torch.int32)\n",
            "CPU times: user 450 µs, sys: 30 µs, total: 480 µs\n",
            "Wall time: 484 µs\n"
          ]
        }
      ]
    },
    {
      "cell_type": "code",
      "source": [
        "%%time\n",
        "torch.matmul(tensor, tensor)"
      ],
      "metadata": {
        "colab": {
          "base_uri": "https://localhost:8080/"
        },
        "id": "a0TYjen4cC91",
        "outputId": "4d0fa917-719e-441e-9d81-11318ed6d48f"
      },
      "execution_count": 94,
      "outputs": [
        {
          "output_type": "stream",
          "name": "stdout",
          "text": [
            "CPU times: user 57 µs, sys: 0 ns, total: 57 µs\n",
            "Wall time: 58.9 µs\n"
          ]
        },
        {
          "output_type": "execute_result",
          "data": {
            "text/plain": [
              "tensor(365, dtype=torch.int32)"
            ]
          },
          "metadata": {},
          "execution_count": 94
        }
      ]
    },
    {
      "cell_type": "markdown",
      "source": [
        "### One of the most common errors in deep learning: shape errors"
      ],
      "metadata": {
        "id": "Q22n0uiJcDCE"
      }
    },
    {
      "cell_type": "code",
      "source": [
        "# Shapes for matrix multipication\n",
        "tensor_A = torch.tensor([[1, 2],\n",
        "                         [3, 4],\n",
        "                         [4, 5]])\n",
        "\n",
        "tensor_B = torch.tensor([[5, 6],\n",
        "                         [7, 9],\n",
        "                         [3, 6]])\n",
        "\n",
        "torch.mm(tensor_A, tensor_B) # torch.mm is short version of torch.matmul"
      ],
      "metadata": {
        "colab": {
          "base_uri": "https://localhost:8080/",
          "height": 205
        },
        "id": "7KybvxNDcDGK",
        "outputId": "9faebb7c-4872-4300-9141-770368c47a01"
      },
      "execution_count": 129,
      "outputs": [
        {
          "output_type": "error",
          "ename": "RuntimeError",
          "evalue": "ignored",
          "traceback": [
            "\u001b[0;31m---------------------------------------------------------------------------\u001b[0m",
            "\u001b[0;31mRuntimeError\u001b[0m                              Traceback (most recent call last)",
            "\u001b[0;32m<ipython-input-129-bf312c6b8262>\u001b[0m in \u001b[0;36m<cell line: 10>\u001b[0;34m()\u001b[0m\n\u001b[1;32m      8\u001b[0m                          [3, 6]])\n\u001b[1;32m      9\u001b[0m \u001b[0;34m\u001b[0m\u001b[0m\n\u001b[0;32m---> 10\u001b[0;31m \u001b[0mtorch\u001b[0m\u001b[0;34m.\u001b[0m\u001b[0mmm\u001b[0m\u001b[0;34m(\u001b[0m\u001b[0mtensor_A\u001b[0m\u001b[0;34m,\u001b[0m \u001b[0mtensor_B\u001b[0m\u001b[0;34m)\u001b[0m \u001b[0;31m# torch.mm is short version of torch.matmul\u001b[0m\u001b[0;34m\u001b[0m\u001b[0;34m\u001b[0m\u001b[0m\n\u001b[0m",
            "\u001b[0;31mRuntimeError\u001b[0m: mat1 and mat2 shapes cannot be multiplied (3x2 and 3x2)"
          ]
        }
      ]
    },
    {
      "cell_type": "code",
      "source": [
        "tensor_A.shape, tensor_B.shape"
      ],
      "metadata": {
        "colab": {
          "base_uri": "https://localhost:8080/"
        },
        "id": "3cHWVpnScDc5",
        "outputId": "d4559ec0-5626-4d18-b233-9043506c674a"
      },
      "execution_count": 126,
      "outputs": [
        {
          "output_type": "execute_result",
          "data": {
            "text/plain": [
              "(torch.Size([3, 2]), torch.Size([3, 2]))"
            ]
          },
          "metadata": {},
          "execution_count": 126
        }
      ]
    },
    {
      "cell_type": "markdown",
      "source": [
        "To fix our tensor shape issues, we can manipulate the shape of one of our tensors using a **transpose**.\n",
        "\n",
        "A **transpose** switches the axes or dimensions of a given tensor."
      ],
      "metadata": {
        "id": "RHMusVT5cDhQ"
      }
    },
    {
      "cell_type": "code",
      "source": [
        "print(f\"Original Tensor: {tensor_B}\"),\n",
        "print(f\"Original Tensor shape: {tensor_A.shape}, {tensor_B.shape}\"),\n",
        "print(\"\\n---------------------------\")\n",
        "print(\"\\nnow after using transpose(T) on tensor_B and the manipulated result is:\")\n",
        "print(f\"Manipulated Tensor shape: {tensor_A.shape}, {tensor_B.T.shape}\"),\n",
        "tensor_B.T"
      ],
      "metadata": {
        "colab": {
          "base_uri": "https://localhost:8080/"
        },
        "id": "6qEEVyWbcDlC",
        "outputId": "4acbf477-bd57-4923-9f0a-734c1cb98a40"
      },
      "execution_count": 154,
      "outputs": [
        {
          "output_type": "stream",
          "name": "stdout",
          "text": [
            "Original Tensor: tensor([[5, 6],\n",
            "        [7, 9],\n",
            "        [3, 6]])\n",
            "Original Tensor shape: torch.Size([3, 2]), torch.Size([3, 2])\n",
            "\n",
            "---------------------------\n",
            "\n",
            "now after using transpose(T) on tensor_B and the manipulated result is:\n",
            "Manipulated Tensor shape: torch.Size([3, 2]), torch.Size([2, 3])\n"
          ]
        },
        {
          "output_type": "execute_result",
          "data": {
            "text/plain": [
              "tensor([[5, 7, 3],\n",
              "        [6, 9, 6]])"
            ]
          },
          "metadata": {},
          "execution_count": 154
        }
      ]
    },
    {
      "cell_type": "code",
      "source": [
        "print(\"Now it works after transposing one of the tensor <- cause inner dimension must match\" )\n",
        "output = torch.mm(tensor_A, tensor_B.T) \n",
        "print(\"Output:\\n\")\n",
        "print(output)\n",
        "print(f\"\\nOutput shape: {output.shape}\")"
      ],
      "metadata": {
        "colab": {
          "base_uri": "https://localhost:8080/"
        },
        "id": "XSEUzVzYqV-u",
        "outputId": "7220a89b-c33a-4b8a-fefb-ea25bca1e98d"
      },
      "execution_count": 157,
      "outputs": [
        {
          "output_type": "stream",
          "name": "stdout",
          "text": [
            "Now it works after transposing one of the tensor <- cause inner dimension must match\n",
            "Output:\n",
            "\n",
            "tensor([[17, 25, 15],\n",
            "        [39, 57, 33],\n",
            "        [50, 73, 42]])\n",
            "\n",
            "Output shape: torch.Size([3, 3])\n"
          ]
        }
      ]
    },
    {
      "cell_type": "markdown",
      "source": [
        "## Finding the min, max, mean, sum, etc (tensor aggregation)"
      ],
      "metadata": {
        "id": "zY27BNOJqV8j"
      }
    },
    {
      "cell_type": "code",
      "source": [],
      "metadata": {
        "id": "FyeCat9wqV6F"
      },
      "execution_count": null,
      "outputs": []
    },
    {
      "cell_type": "code",
      "source": [],
      "metadata": {
        "id": "cCRrlLLKqV3n"
      },
      "execution_count": null,
      "outputs": []
    },
    {
      "cell_type": "code",
      "source": [],
      "metadata": {
        "id": "qErIIkElqVzh"
      },
      "execution_count": null,
      "outputs": []
    }
  ]
}